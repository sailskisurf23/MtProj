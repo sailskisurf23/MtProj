{
 "cells": [
  {
   "cell_type": "code",
   "execution_count": 1,
   "metadata": {},
   "outputs": [],
   "source": [
    "import mt_scrape_helpers as mh\n",
    "from MtProjScraper import MPS\n",
    "import numpy as np\n",
    "import pandas as pd\n",
    "%load_ext autoreload\n",
    "%autoreload 2"
   ]
  },
  {
   "cell_type": "code",
   "execution_count": 2,
   "metadata": {},
   "outputs": [],
   "source": [
    "# loc_u = None\n",
    "loc_r = '/Users/colinbrochard/DSI_Capstone_local/MtProjRec/2_data/ClassicRouteIds.csv'\n",
    "loc_u_errors = '/Users/colinbrochard/DSI_Capstone_local/MtProjRec/2_data/users_errorlog1.csv'\n",
    "loc_r_errors = '/Users/colinbrochard/DSI_Capstone_local/MtProjRec/2_data/routes_errorlog1.csv'"
   ]
  },
  {
   "cell_type": "code",
   "execution_count": 3,
   "metadata": {},
   "outputs": [],
   "source": [
    "# with open(loc_u) as f:\n",
    "#     users = [line.strip() for line in f]\n",
    "with open(loc_r) as f2:\n",
    "    routes = [line.strip() for line in f2]"
   ]
  },
  {
   "cell_type": "code",
   "execution_count": 5,
   "metadata": {},
   "outputs": [
    {
     "data": {
      "text/plain": [
       "6"
      ]
     },
     "execution_count": 5,
     "metadata": {},
     "output_type": "execute_result"
    }
   ],
   "source": [
    "# (len(users),len(routes))\n",
    "len(routes)"
   ]
  },
  {
   "cell_type": "code",
   "execution_count": 9,
   "metadata": {},
   "outputs": [
    {
     "name": "stdout",
     "output_type": "stream",
     "text": [
      "routes: 6\n",
      "users: 0\n"
     ]
    }
   ],
   "source": [
    "mps1 = MPS(startroutes=routes)\n",
    "print('routes: {}'.format(len(mps1.routeID_bucket)))\n",
    "print('users: {}'.format(len(mps1.userID_bucket)))"
   ]
  },
  {
   "cell_type": "code",
   "execution_count": 18,
   "metadata": {},
   "outputs": [
    {
     "name": "stdout",
     "output_type": "stream",
     "text": [
      "Looking through 15 routes\n",
      "Looking through 50 users\n",
      "routes: 66645\n",
      "users: 8782\n",
      "Looking through 15 routes\n",
      "Looking through 50 users\n",
      "routes: 66883\n",
      "users: 8805\n",
      "Looking through 15 routes\n",
      "Looking through 50 users\n",
      "routes: 67214\n",
      "users: 8817\n",
      "Looking through 15 routes\n",
      "Looking through 50 users\n",
      "routes: 67400\n",
      "users: 8833\n",
      "Looking through 15 routes\n",
      "Looking through 50 users\n",
      "routes: 67829\n",
      "users: 8861\n",
      "Looking through 15 routes\n",
      "Looking through 50 users\n",
      "routes: 68047\n",
      "users: 8872\n",
      "Looking through 15 routes\n",
      "Looking through 50 users\n",
      "routes: 68305\n",
      "users: 8946\n",
      "Looking through 15 routes\n",
      "Looking through 50 users\n",
      "routes: 68472\n",
      "users: 8967\n",
      "Looking through 15 routes\n",
      "Looking through 50 users\n",
      "routes: 68672\n",
      "users: 8983\n",
      "Looking through 15 routes\n",
      "Looking through 50 users\n",
      "routes: 68932\n",
      "users: 9014\n",
      "Looking through 15 routes\n",
      "Looking through 50 users\n",
      "routes: 69106\n",
      "users: 9065\n",
      "Looking through 15 routes\n",
      "Looking through 50 users\n",
      "routes: 69360\n",
      "users: 9089\n",
      "Looking through 15 routes\n",
      "Looking through 50 users\n",
      "routes: 69589\n",
      "users: 9131\n",
      "Looking through 15 routes\n",
      "Looking through 50 users\n",
      "routes: 69810\n",
      "users: 9144\n",
      "Looking through 15 routes\n",
      "Looking through 50 users\n",
      "routes: 69999\n",
      "users: 9178\n",
      "Looking through 15 routes\n",
      "Looking through 50 users\n",
      "routes: 70227\n",
      "users: 9196\n",
      "Looking through 15 routes\n",
      "Looking through 50 users\n",
      "routes: 70537\n",
      "users: 9247\n",
      "Looking through 15 routes\n",
      "Looking through 50 users\n",
      "routes: 70703\n",
      "users: 9296\n",
      "Looking through 15 routes\n",
      "Looking through 50 users\n",
      "routes: 70928\n",
      "users: 9355\n",
      "Looking through 15 routes\n",
      "Looking through 50 users\n",
      "routes: 71122\n",
      "users: 9383\n",
      "Looking through 15 routes\n",
      "Looking through 50 users\n",
      "routes: 71410\n",
      "users: 9398\n",
      "Looking through 15 routes\n",
      "Looking through 50 users\n",
      "routes: 71592\n",
      "users: 9409\n",
      "Looking through 15 routes\n",
      "Looking through 50 users\n",
      "routes: 71732\n",
      "users: 9424\n",
      "Looking through 15 routes\n",
      "Looking through 50 users\n",
      "routes: 71966\n",
      "users: 9472\n",
      "Looking through 15 routes\n",
      "Looking through 50 users\n",
      "routes: 72210\n",
      "users: 9518\n",
      "Looking through 15 routes\n",
      "Looking through 50 users\n",
      "routes: 72304\n",
      "users: 9609\n",
      "Looking through 15 routes\n",
      "Looking through 50 users\n",
      "routes: 72649\n",
      "users: 9645\n",
      "Looking through 15 routes\n",
      "Looking through 50 users\n",
      "routes: 72861\n",
      "users: 9673\n",
      "Looking through 15 routes\n",
      "Looking through 50 users\n",
      "routes: 73132\n",
      "users: 9695\n",
      "Looking through 15 routes\n",
      "Looking through 50 users\n",
      "routes: 73289\n",
      "users: 9723\n",
      "Looking through 15 routes\n",
      "Looking through 50 users\n",
      "routes: 73586\n",
      "users: 9746\n",
      "Looking through 15 routes\n",
      "Looking through 50 users\n",
      "routes: 73662\n",
      "users: 9821\n",
      "Looking through 15 routes\n",
      "Looking through 50 users\n",
      "routes: 73901\n",
      "users: 9859\n",
      "Looking through 15 routes\n",
      "Looking through 50 users\n",
      "routes: 74056\n",
      "users: 9894\n",
      "Looking through 15 routes\n",
      "Looking through 50 users\n",
      "routes: 74431\n",
      "users: 9912\n",
      "Looking through 15 routes\n",
      "Looking through 50 users\n",
      "routes: 74675\n",
      "users: 9916\n",
      "Looking through 15 routes\n",
      "Looking through 50 users\n",
      "routes: 74808\n",
      "users: 9943\n",
      "Looking through 15 routes\n",
      "Looking through 50 users\n",
      "routes: 74937\n",
      "users: 9958\n",
      "Looking through 15 routes\n",
      "Looking through 50 users\n",
      "routes: 75101\n",
      "users: 9979\n",
      "Looking through 15 routes\n",
      "Looking through 50 users\n",
      "routes: 75354\n",
      "users: 10015\n",
      "Looking through 15 routes\n",
      "Looking through 50 users\n",
      "routes: 75565\n",
      "users: 10021\n",
      "Looking through 15 routes\n",
      "Error while parsing route 110891519\n"
     ]
    },
    {
     "ename": "KeyboardInterrupt",
     "evalue": "",
     "output_type": "error",
     "traceback": [
      "\u001b[0;31m---------------------------------------------------------------------------\u001b[0m",
      "\u001b[0;31mKeyboardInterrupt\u001b[0m                         Traceback (most recent call last)",
      "\u001b[0;32m<ipython-input-18-559a3e431b29>\u001b[0m in \u001b[0;36m<module>\u001b[0;34m()\u001b[0m\n\u001b[1;32m      1\u001b[0m \u001b[0;32mfor\u001b[0m \u001b[0mx\u001b[0m \u001b[0;32min\u001b[0m \u001b[0mrange\u001b[0m\u001b[0;34m(\u001b[0m\u001b[0;36m300\u001b[0m\u001b[0;34m)\u001b[0m\u001b[0;34m:\u001b[0m\u001b[0;34m\u001b[0m\u001b[0m\n\u001b[0;32m----> 2\u001b[0;31m     \u001b[0mmps1\u001b[0m\u001b[0;34m.\u001b[0m\u001b[0madd_to_user_bucket\u001b[0m\u001b[0;34m(\u001b[0m\u001b[0;36m15\u001b[0m\u001b[0;34m)\u001b[0m\u001b[0;34m\u001b[0m\u001b[0m\n\u001b[0m\u001b[1;32m      3\u001b[0m     \u001b[0mmps1\u001b[0m\u001b[0;34m.\u001b[0m\u001b[0madd_to_route_bucket\u001b[0m\u001b[0;34m(\u001b[0m\u001b[0;36m50\u001b[0m\u001b[0;34m)\u001b[0m\u001b[0;34m\u001b[0m\u001b[0m\n\u001b[1;32m      4\u001b[0m     \u001b[0mprint\u001b[0m\u001b[0;34m(\u001b[0m\u001b[0;34m'routes: {}'\u001b[0m\u001b[0;34m.\u001b[0m\u001b[0mformat\u001b[0m\u001b[0;34m(\u001b[0m\u001b[0mlen\u001b[0m\u001b[0;34m(\u001b[0m\u001b[0mmps1\u001b[0m\u001b[0;34m.\u001b[0m\u001b[0mrouteID_bucket\u001b[0m\u001b[0;34m)\u001b[0m\u001b[0;34m)\u001b[0m\u001b[0;34m)\u001b[0m\u001b[0;34m\u001b[0m\u001b[0m\n\u001b[1;32m      5\u001b[0m     \u001b[0mprint\u001b[0m\u001b[0;34m(\u001b[0m\u001b[0;34m'users: {}'\u001b[0m\u001b[0;34m.\u001b[0m\u001b[0mformat\u001b[0m\u001b[0;34m(\u001b[0m\u001b[0mlen\u001b[0m\u001b[0;34m(\u001b[0m\u001b[0mmps1\u001b[0m\u001b[0;34m.\u001b[0m\u001b[0muserID_bucket\u001b[0m\u001b[0;34m)\u001b[0m\u001b[0;34m)\u001b[0m\u001b[0;34m)\u001b[0m\u001b[0;34m\u001b[0m\u001b[0m\n",
      "\u001b[0;32m/Users/colinbrochard/DSI_Capstone_local/MtProjRec/1_data_coll/MtProjScraper.py\u001b[0m in \u001b[0;36madd_to_user_bucket\u001b[0;34m(self, n)\u001b[0m\n\u001b[1;32m     54\u001b[0m                                 .difference(self.route_errors_bucket))[:n]:\n\u001b[1;32m     55\u001b[0m             \u001b[0;32mtry\u001b[0m\u001b[0;34m:\u001b[0m\u001b[0;34m\u001b[0m\u001b[0m\n\u001b[0;32m---> 56\u001b[0;31m                 \u001b[0muserIDs\u001b[0m\u001b[0;34m,\u001b[0m \u001b[0mstars\u001b[0m \u001b[0;34m=\u001b[0m \u001b[0mmh\u001b[0m\u001b[0;34m.\u001b[0m\u001b[0mparse_stars\u001b[0m\u001b[0;34m(\u001b[0m\u001b[0mstr\u001b[0m\u001b[0;34m(\u001b[0m\u001b[0mrouteID\u001b[0m\u001b[0;34m)\u001b[0m\u001b[0;34m)\u001b[0m\u001b[0;34m\u001b[0m\u001b[0m\n\u001b[0m\u001b[1;32m     57\u001b[0m                 \u001b[0muserset\u001b[0m \u001b[0;34m=\u001b[0m \u001b[0mset\u001b[0m\u001b[0;34m(\u001b[0m\u001b[0muserIDs\u001b[0m\u001b[0;34m)\u001b[0m\u001b[0;34m\u001b[0m\u001b[0m\n\u001b[1;32m     58\u001b[0m                 \u001b[0mself\u001b[0m\u001b[0;34m.\u001b[0m\u001b[0muserID_bucket\u001b[0m \u001b[0;34m=\u001b[0m \u001b[0mself\u001b[0m\u001b[0;34m.\u001b[0m\u001b[0muserID_bucket\u001b[0m\u001b[0;34m.\u001b[0m\u001b[0munion\u001b[0m\u001b[0;34m(\u001b[0m\u001b[0muserset\u001b[0m\u001b[0;34m)\u001b[0m\u001b[0;34m\u001b[0m\u001b[0m\n",
      "\u001b[0;32m/Users/colinbrochard/DSI_Capstone_local/MtProjRec/1_data_coll/mt_scrape_helpers.py\u001b[0m in \u001b[0;36mparse_stars\u001b[0;34m(routeid)\u001b[0m\n\u001b[1;32m     65\u001b[0m     \u001b[0mstar_counts\u001b[0m \u001b[0;34m-\u001b[0m\u001b[0;34m-\u001b[0m \u001b[0mID_list\u001b[0m\u001b[0;34m\u001b[0m\u001b[0m\n\u001b[1;32m     66\u001b[0m     \"\"\"\n\u001b[0;32m---> 67\u001b[0;31m     \u001b[0mtime\u001b[0m\u001b[0;34m.\u001b[0m\u001b[0msleep\u001b[0m\u001b[0;34m(\u001b[0m\u001b[0;36m2\u001b[0m\u001b[0;34m*\u001b[0m\u001b[0mrandom\u001b[0m\u001b[0;34m.\u001b[0m\u001b[0mrandom\u001b[0m\u001b[0;34m(\u001b[0m\u001b[0;34m)\u001b[0m\u001b[0;34m)\u001b[0m\u001b[0;34m\u001b[0m\u001b[0m\n\u001b[0m\u001b[1;32m     68\u001b[0m \u001b[0;34m\u001b[0m\u001b[0m\n\u001b[1;32m     69\u001b[0m     \u001b[0;31m# build URL\u001b[0m\u001b[0;34m\u001b[0m\u001b[0;34m\u001b[0m\u001b[0m\n",
      "\u001b[0;31mKeyboardInterrupt\u001b[0m: "
     ]
    }
   ],
   "source": [
    "for x in range(300):\n",
    "    mps1.add_to_user_bucket(15)\n",
    "    mps1.add_to_route_bucket(50)\n",
    "    print('routes: {}'.format(len(mps1.routeID_bucket)))\n",
    "    print('users: {}'.format(len(mps1.userID_bucket)))"
   ]
  },
  {
   "cell_type": "code",
   "execution_count": 15,
   "metadata": {},
   "outputs": [],
   "source": [
    "w_loc_u = '/Users/colinbrochard/DSI_Capstone_local/MtProjRec/2_data/users_sample.csv'\n",
    "w_loc_r = '/Users/colinbrochard/DSI_Capstone_local/MtProjRec/2_data/routes_sample.csv'"
   ]
  },
  {
   "cell_type": "code",
   "execution_count": 16,
   "metadata": {},
   "outputs": [
    {
     "name": "stdout",
     "output_type": "stream",
     "text": [
      "writing 57039 routes to:\n",
      " /Users/colinbrochard/DSI_Capstone_local/MtProjRec/2_data/routes_sample.csv\n",
      "writing 7950 users to:\n",
      " /Users/colinbrochard/DSI_Capstone_local/MtProjRec/2_data/users_sample.csv\n",
      "writing 0 routes to:\n",
      " /Users/colinbrochard/DSI_Capstone_local/MtProjRec/2_data/routes_errorlog1.csv\n",
      "writing 2 routes to:\n",
      " /Users/colinbrochard/DSI_Capstone_local/MtProjRec/2_data/users_errorlog1.csv\n"
     ]
    }
   ],
   "source": [
    "mps1.write_routes(w_loc_r)\n",
    "mps1.write_users(w_loc_u)\n",
    "mps1.write_route_errors(loc_r_errors)\n",
    "mps1.write_user_errors(loc_u_errors)"
   ]
  },
  {
   "cell_type": "code",
   "execution_count": null,
   "metadata": {},
   "outputs": [],
   "source": []
  },
  {
   "cell_type": "code",
   "execution_count": null,
   "metadata": {},
   "outputs": [],
   "source": []
  }
 ],
 "metadata": {
  "kernelspec": {
   "display_name": "Python 3",
   "language": "python",
   "name": "python3"
  },
  "language_info": {
   "codemirror_mode": {
    "name": "ipython",
    "version": 3
   },
   "file_extension": ".py",
   "mimetype": "text/x-python",
   "name": "python",
   "nbconvert_exporter": "python",
   "pygments_lexer": "ipython3",
   "version": "3.6.1"
  }
 },
 "nbformat": 4,
 "nbformat_minor": 2
}
