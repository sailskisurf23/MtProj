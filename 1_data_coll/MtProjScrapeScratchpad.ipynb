{
 "cells": [
  {
   "cell_type": "code",
   "execution_count": 1,
   "metadata": {},
   "outputs": [],
   "source": [
    "import mt_scrape_helpers as mh\n",
    "from MtProjScraper import MPS\n",
    "import numpy as np\n",
    "import pandas as pd\n",
    "%load_ext autoreload\n",
    "%autoreload 2"
   ]
  },
  {
   "cell_type": "code",
   "execution_count": 4,
   "metadata": {},
   "outputs": [],
   "source": [
    "loc_u = '/Users/colinbrochard/DSI_Capstone_local/MtProjRec/2_data/users4.csv'\n",
    "loc_r = '/Users/colinbrochard/DSI_Capstone_local/MtProjRec/2_data/routes4.csv'\n",
    "loc_u_errors = '/Users/colinbrochard/DSI_Capstone_local/MtProjRec/2_data/users_errorlog1.csv'\n",
    "loc_r_errors = '/Users/colinbrochard/DSI_Capstone_local/MtProjRec/2_data/routes_errorlog1.csv'"
   ]
  },
  {
   "cell_type": "code",
   "execution_count": 5,
   "metadata": {},
   "outputs": [],
   "source": [
    "with open(loc_u) as f:\n",
    "    users = [line.strip() for line in f]"
   ]
  },
  {
   "cell_type": "code",
   "execution_count": 6,
   "metadata": {},
   "outputs": [],
   "source": [
    "with open(loc_r) as f2:\n",
    "    routes = [line.strip() for line in f2]"
   ]
  },
  {
   "cell_type": "code",
   "execution_count": 7,
   "metadata": {},
   "outputs": [
    {
     "data": {
      "text/plain": [
       "(19186, 123844)"
      ]
     },
     "execution_count": 7,
     "metadata": {},
     "output_type": "execute_result"
    }
   ],
   "source": [
    "(len(users),len(routes))"
   ]
  },
  {
   "cell_type": "code",
   "execution_count": 8,
   "metadata": {},
   "outputs": [],
   "source": [
    "mps1 = MPS(users,routes)"
   ]
  },
  {
   "cell_type": "code",
   "execution_count": 11,
   "metadata": {},
   "outputs": [
    {
     "name": "stdout",
     "output_type": "stream",
     "text": [
      "routes: 94361\n",
      "users: 19337\n"
     ]
    }
   ],
   "source": [
    "print('routes: {}'.format(len(mps1.routeID_bucket)))\n",
    "print('users: {}'.format(len(mps1.userID_bucket)))"
   ]
  },
  {
   "cell_type": "code",
   "execution_count": 12,
   "metadata": {},
   "outputs": [
    {
     "name": "stdout",
     "output_type": "stream",
     "text": [
      "Looking through 15 routes\n",
      "Looking through 50 users\n",
      "routes: 95455\n",
      "users: 19361\n",
      "Looking through 15 routes\n",
      "Looking through 50 users\n",
      "routes: 96705\n",
      "users: 19389\n",
      "Looking through 15 routes\n",
      "Looking through 50 users\n",
      "routes: 97693\n",
      "users: 19393\n",
      "Looking through 15 routes\n",
      "Looking through 50 users\n",
      "routes: 98686\n",
      "users: 19401\n",
      "Looking through 15 routes\n",
      "Looking through 50 users\n",
      "routes: 99431\n",
      "users: 19405\n",
      "Looking through 15 routes\n",
      "Looking through 50 users\n",
      "routes: 100413\n",
      "users: 19421\n",
      "Looking through 15 routes\n",
      "Looking through 50 users\n",
      "routes: 101145\n",
      "users: 19428\n",
      "Looking through 15 routes\n",
      "Looking through 50 users\n",
      "routes: 101615\n",
      "users: 19435\n",
      "Looking through 15 routes\n",
      "Looking through 50 users\n",
      "routes: 102378\n",
      "users: 19444\n",
      "Looking through 15 routes\n",
      "Looking through 50 users\n",
      "routes: 103172\n",
      "users: 19459\n",
      "Looking through 15 routes\n",
      "Looking through 50 users\n",
      "routes: 104066\n",
      "users: 19463\n",
      "Looking through 15 routes\n",
      "Looking through 50 users\n",
      "routes: 104439\n",
      "users: 19467\n",
      "Looking through 15 routes\n",
      "Looking through 50 users\n",
      "routes: 105192\n",
      "users: 19477\n",
      "Looking through 15 routes\n",
      "Looking through 50 users\n",
      "routes: 105814\n",
      "users: 19495\n",
      "Looking through 15 routes\n",
      "Looking through 50 users\n",
      "routes: 106825\n",
      "users: 19502\n",
      "Looking through 15 routes\n",
      "Looking through 50 users\n",
      "routes: 107636\n",
      "users: 19507\n",
      "Looking through 15 routes\n",
      "Looking through 50 users\n",
      "routes: 108284\n",
      "users: 19532\n",
      "Looking through 15 routes\n",
      "Looking through 50 users\n",
      "routes: 109001\n",
      "users: 19533\n",
      "Looking through 15 routes\n",
      "Looking through 50 users\n",
      "routes: 109567\n",
      "users: 19537\n",
      "Looking through 15 routes\n",
      "Looking through 50 users\n",
      "routes: 110066\n",
      "users: 19542\n"
     ]
    }
   ],
   "source": [
    "for x in range(20):\n",
    "    mps1.add_to_user_bucket(15)\n",
    "    mps1.add_to_route_bucket(50)\n",
    "    print('routes: {}'.format(len(mps1.routeID_bucket)))\n",
    "    print('users: {}'.format(len(mps1.userID_bucket)))"
   ]
  },
  {
   "cell_type": "code",
   "execution_count": null,
   "metadata": {},
   "outputs": [],
   "source": [
    "for x in range(300):\n",
    "    mps1.add_to_user_bucket(15)\n",
    "    mps1.add_to_route_bucket(50)\n",
    "    print('routes: {}'.format(len(mps1.routeID_bucket)))\n",
    "    print('users: {}'.format(len(mps1.userID_bucket)))"
   ]
  },
  {
   "cell_type": "code",
   "execution_count": null,
   "metadata": {},
   "outputs": [],
   "source": [
    "for x in range(300):\n",
    "    mps1.add_to_user_bucket(15)\n",
    "    mps1.add_to_route_bucket(50)\n",
    "    print('routes: {}'.format(len(mps1.routeID_bucket)))\n",
    "    print('users: {}'.format(len(mps1.userID_bucket)))"
   ]
  },
  {
   "cell_type": "code",
   "execution_count": null,
   "metadata": {},
   "outputs": [],
   "source": [
    "w_loc_u = '/Users/colinbrochard/DSI_Capstone_local/MtProjRec/data1/users5.csv'\n",
    "w_loc_r = '/Users/colinbrochard/DSI_Capstone_local/MtProjRec/data1/routes5.csv'"
   ]
  },
  {
   "cell_type": "code",
   "execution_count": null,
   "metadata": {},
   "outputs": [],
   "source": [
    "mps1.write_routes(w_loc_r)\n",
    "mps1.write_users(w_loc_u)\n",
    "mps1.write_route_errors(loc_r_errors)\n",
    "mps1.write_user_errors(loc_u_errors)"
   ]
  },
  {
   "cell_type": "code",
   "execution_count": null,
   "metadata": {},
   "outputs": [],
   "source": []
  }
 ],
 "metadata": {
  "kernelspec": {
   "display_name": "Python 3",
   "language": "python",
   "name": "python3"
  },
  "language_info": {
   "codemirror_mode": {
    "name": "ipython",
    "version": 3
   },
   "file_extension": ".py",
   "mimetype": "text/x-python",
   "name": "python",
   "nbconvert_exporter": "python",
   "pygments_lexer": "ipython3",
   "version": "3.6.1"
  }
 },
 "nbformat": 4,
 "nbformat_minor": 2
}
