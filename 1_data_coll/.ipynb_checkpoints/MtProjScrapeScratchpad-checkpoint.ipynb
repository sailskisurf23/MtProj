{
 "cells": [
  {
   "cell_type": "code",
   "execution_count": 1,
   "metadata": {},
   "outputs": [],
   "source": [
    "import mt_scrape_helpers as mh\n",
    "from MtProjScraper import MPS\n",
    "import numpy as np\n",
    "import pandas as pd\n",
    "%load_ext autoreload\n",
    "%autoreload 2"
   ]
  },
  {
   "cell_type": "code",
   "execution_count": 2,
   "metadata": {},
   "outputs": [],
   "source": [
    "# loc_u = None\n",
    "loc_r = '/Users/colinbrochard/DSI_Capstone_local/MtProjRec/2_data/ClassicRouteIds.csv'\n",
    "loc_u_errors = '/Users/colinbrochard/DSI_Capstone_local/MtProjRec/2_data/users_errorlog1.csv'\n",
    "loc_r_errors = '/Users/colinbrochard/DSI_Capstone_local/MtProjRec/2_data/routes_errorlog1.csv'"
   ]
  },
  {
   "cell_type": "code",
   "execution_count": 3,
   "metadata": {},
   "outputs": [],
   "source": [
    "# with open(loc_u) as f:\n",
    "#     users = [line.strip() for line in f]\n",
    "with open(loc_r) as f2:\n",
    "    routes = [line.strip() for line in f2]"
   ]
  },
  {
   "cell_type": "code",
   "execution_count": 5,
   "metadata": {},
   "outputs": [
    {
     "data": {
      "text/plain": [
       "6"
      ]
     },
     "execution_count": 5,
     "metadata": {},
     "output_type": "execute_result"
    }
   ],
   "source": [
    "# (len(users),len(routes))\n",
    "len(routes)"
   ]
  },
  {
   "cell_type": "code",
   "execution_count": 9,
   "metadata": {},
   "outputs": [
    {
     "name": "stdout",
     "output_type": "stream",
     "text": [
      "routes: 6\n",
      "users: 0\n"
     ]
    }
   ],
   "source": [
    "mps1 = MPS(startroutes=routes)\n",
    "print('routes: {}'.format(len(mps1.routeID_bucket)))\n",
    "print('users: {}'.format(len(mps1.userID_bucket)))"
   ]
  },
  {
   "cell_type": "code",
   "execution_count": null,
   "metadata": {},
   "outputs": [
    {
     "name": "stdout",
     "output_type": "stream",
     "text": [
      "Looking through 15 routes\n",
      "Looking through 50 users\n",
      "routes: 3997\n",
      "users: 2321\n",
      "Looking through 15 routes\n",
      "Looking through 50 users\n",
      "routes: 6797\n",
      "users: 2647\n",
      "Looking through 15 routes\n",
      "Looking through 50 users\n",
      "routes: 8930\n",
      "users: 3003\n",
      "Looking through 15 routes\n",
      "Looking through 50 users\n",
      "routes: 11144\n",
      "users: 3146\n",
      "Looking through 15 routes\n",
      "Looking through 50 users\n",
      "routes: 13072\n",
      "users: 3200\n",
      "Looking through 15 routes\n",
      "Looking through 50 users\n"
     ]
    }
   ],
   "source": [
    "for x in range(300):\n",
    "    mps1.add_to_user_bucket(15)\n",
    "    mps1.add_to_route_bucket(50)\n",
    "    print('routes: {}'.format(len(mps1.routeID_bucket)))\n",
    "    print('users: {}'.format(len(mps1.userID_bucket)))"
   ]
  },
  {
   "cell_type": "code",
   "execution_count": null,
   "metadata": {},
   "outputs": [],
   "source": [
    "w_loc_u = '/Users/colinbrochard/DSI_Capstone_local/MtProjRec/2_data/users1.csv'\n",
    "w_loc_r = '/Users/colinbrochard/DSI_Capstone_local/MtProjRec/2_data/routes1.csv'"
   ]
  },
  {
   "cell_type": "code",
   "execution_count": null,
   "metadata": {},
   "outputs": [],
   "source": [
    "mps1.write_routes(w_loc_r)\n",
    "mps1.write_users(w_loc_u)\n",
    "mps1.write_route_errors(loc_r_errors)\n",
    "mps1.write_user_errors(loc_u_errors)"
   ]
  },
  {
   "cell_type": "code",
   "execution_count": null,
   "metadata": {},
   "outputs": [],
   "source": []
  }
 ],
 "metadata": {
  "kernelspec": {
   "display_name": "Python 3",
   "language": "python",
   "name": "python3"
  },
  "language_info": {
   "codemirror_mode": {
    "name": "ipython",
    "version": 3
   },
   "file_extension": ".py",
   "mimetype": "text/x-python",
   "name": "python",
   "nbconvert_exporter": "python",
   "pygments_lexer": "ipython3",
   "version": "3.6.1"
  }
 },
 "nbformat": 4,
 "nbformat_minor": 2
}
