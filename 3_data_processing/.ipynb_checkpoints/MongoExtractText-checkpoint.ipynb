{
 "cells": [
  {
   "cell_type": "code",
   "execution_count": 55,
   "metadata": {},
   "outputs": [],
   "source": [
    "import sys,csv\n",
    "sys.path.insert(0, '/Users/colinbrochard/ProjRepos/MtProj/1_data_coll/')\n",
    "import pandas as pd\n",
    "import mt_scrape_helpers as mh\n",
    "from pymongo import MongoClient\n",
    "\n",
    "client = MongoClient()\n",
    "db = client.routes_db\n",
    "df = pd.DataFrame(list(db.dump5.find()))"
   ]
  },
  {
   "cell_type": "code",
   "execution_count": 81,
   "metadata": {},
   "outputs": [],
   "source": [
    "from bs4 import BeautifulSoup\n",
    "import numpy as np\n",
    "import re"
   ]
  },
  {
   "cell_type": "code",
   "execution_count": 57,
   "metadata": {},
   "outputs": [],
   "source": [
    "df = df.head(1000)"
   ]
  },
  {
   "cell_type": "code",
   "execution_count": 58,
   "metadata": {},
   "outputs": [],
   "source": [
    "def get_desc(bytes_page):\n",
    "    '''\n",
    "    Extract description from MountainProject route webpage\n",
    "    \n",
    "    INPUT\n",
    "    bytes_page: webpage (bytes)\n",
    "    OUTPUT\n",
    "    desc: description (str) \n",
    "    '''\n",
    "    bs_obj = BeautifulSoup(bytes_page)\n",
    "    desc = str(bs_obj.findAll('div', {'class':'fr-view'})[0])\n",
    "    return desc"
   ]
  },
  {
   "cell_type": "code",
   "execution_count": 59,
   "metadata": {},
   "outputs": [
    {
     "name": "stderr",
     "output_type": "stream",
     "text": [
      "/Users/colinbrochard/anaconda/lib/python3.6/site-packages/bs4/__init__.py:181: UserWarning: No parser was explicitly specified, so I'm using the best available HTML parser for this system (\"lxml\"). This usually isn't a problem, but if you run this code on another system, or in a different virtual environment, it may use a different parser and behave differently.\n",
      "\n",
      "The code that caused this warning is on line 193 of the file /Users/colinbrochard/anaconda/lib/python3.6/runpy.py. To get rid of this warning, change code that looks like this:\n",
      "\n",
      " BeautifulSoup(YOUR_MARKUP})\n",
      "\n",
      "to this:\n",
      "\n",
      " BeautifulSoup(YOUR_MARKUP, \"lxml\")\n",
      "\n",
      "  markup_type=markup_type))\n"
     ]
    }
   ],
   "source": [
    "df['desc'] = np.vectorize(get_desc)(df['page'])"
   ]
  },
  {
   "cell_type": "code",
   "execution_count": 62,
   "metadata": {},
   "outputs": [
    {
     "data": {
      "text/html": [
       "<div>\n",
       "<style>\n",
       "    .dataframe thead tr:only-child th {\n",
       "        text-align: right;\n",
       "    }\n",
       "\n",
       "    .dataframe thead th {\n",
       "        text-align: left;\n",
       "    }\n",
       "\n",
       "    .dataframe tbody tr th {\n",
       "        vertical-align: top;\n",
       "    }\n",
       "</style>\n",
       "<table border=\"1\" class=\"dataframe\">\n",
       "  <thead>\n",
       "    <tr style=\"text-align: right;\">\n",
       "      <th></th>\n",
       "      <th>_id</th>\n",
       "      <th>page</th>\n",
       "      <th>routeid</th>\n",
       "      <th>stats</th>\n",
       "      <th>desc</th>\n",
       "    </tr>\n",
       "  </thead>\n",
       "  <tbody>\n",
       "    <tr>\n",
       "      <th>0</th>\n",
       "      <td>5adfbb48dcafc00b83d495c5</td>\n",
       "      <td>b'&lt;!DOCTYPE html&gt;\\n&lt;html&gt;\\n    &lt;head&gt;\\n       ...</td>\n",
       "      <td>105880551</td>\n",
       "      <td>b'&lt;!DOCTYPE html&gt;\\n&lt;html&gt;\\n    &lt;head&gt;\\n       ...</td>\n",
       "      <td>&lt;div class=\"fr-view\"&gt;This is one of the easier...</td>\n",
       "    </tr>\n",
       "    <tr>\n",
       "      <th>1</th>\n",
       "      <td>5adfbb52dcafc00b83d495c7</td>\n",
       "      <td>b'&lt;!DOCTYPE html&gt;\\n&lt;html&gt;\\n    &lt;head&gt;\\n       ...</td>\n",
       "      <td>105880553</td>\n",
       "      <td>b'&lt;!DOCTYPE html&gt;\\n&lt;html&gt;\\n    &lt;head&gt;\\n       ...</td>\n",
       "      <td>&lt;div class=\"fr-view\"&gt;Awesome position and grea...</td>\n",
       "    </tr>\n",
       "    <tr>\n",
       "      <th>2</th>\n",
       "      <td>5adfbb5ddcafc00b83d495c9</td>\n",
       "      <td>b'&lt;!DOCTYPE html&gt;\\n&lt;html&gt;\\n    &lt;head&gt;\\n       ...</td>\n",
       "      <td>108239856</td>\n",
       "      <td>b'&lt;!DOCTYPE html&gt;\\n&lt;html&gt;\\n    &lt;head&gt;\\n       ...</td>\n",
       "      <td>&lt;div class=\"fr-view\"&gt;Start under a small roof ...</td>\n",
       "    </tr>\n",
       "    <tr>\n",
       "      <th>3</th>\n",
       "      <td>5adfbb69dcafc00b83d495cb</td>\n",
       "      <td>b'&lt;!DOCTYPE html&gt;\\n&lt;html&gt;\\n    &lt;head&gt;\\n       ...</td>\n",
       "      <td>107453429</td>\n",
       "      <td>b'&lt;!DOCTYPE html&gt;\\n&lt;html&gt;\\n    &lt;head&gt;\\n       ...</td>\n",
       "      <td>&lt;div class=\"fr-view\"&gt;Stand Start on the left s...</td>\n",
       "    </tr>\n",
       "    <tr>\n",
       "      <th>4</th>\n",
       "      <td>5adfbb6fdcafc00b83d495cc</td>\n",
       "      <td>b'&lt;!DOCTYPE html&gt;\\n&lt;html&gt;\\n    &lt;head&gt;\\n       ...</td>\n",
       "      <td>105880567</td>\n",
       "      <td>b'&lt;!DOCTYPE html&gt;\\n&lt;html&gt;\\n    &lt;head&gt;\\n       ...</td>\n",
       "      <td>&lt;div class=\"fr-view\"&gt;Climbs a vertical to gent...</td>\n",
       "    </tr>\n",
       "  </tbody>\n",
       "</table>\n",
       "</div>"
      ],
      "text/plain": [
       "                        _id  \\\n",
       "0  5adfbb48dcafc00b83d495c5   \n",
       "1  5adfbb52dcafc00b83d495c7   \n",
       "2  5adfbb5ddcafc00b83d495c9   \n",
       "3  5adfbb69dcafc00b83d495cb   \n",
       "4  5adfbb6fdcafc00b83d495cc   \n",
       "\n",
       "                                                page    routeid  \\\n",
       "0  b'<!DOCTYPE html>\\n<html>\\n    <head>\\n       ...  105880551   \n",
       "1  b'<!DOCTYPE html>\\n<html>\\n    <head>\\n       ...  105880553   \n",
       "2  b'<!DOCTYPE html>\\n<html>\\n    <head>\\n       ...  108239856   \n",
       "3  b'<!DOCTYPE html>\\n<html>\\n    <head>\\n       ...  107453429   \n",
       "4  b'<!DOCTYPE html>\\n<html>\\n    <head>\\n       ...  105880567   \n",
       "\n",
       "                                               stats  \\\n",
       "0  b'<!DOCTYPE html>\\n<html>\\n    <head>\\n       ...   \n",
       "1  b'<!DOCTYPE html>\\n<html>\\n    <head>\\n       ...   \n",
       "2  b'<!DOCTYPE html>\\n<html>\\n    <head>\\n       ...   \n",
       "3  b'<!DOCTYPE html>\\n<html>\\n    <head>\\n       ...   \n",
       "4  b'<!DOCTYPE html>\\n<html>\\n    <head>\\n       ...   \n",
       "\n",
       "                                                desc  \n",
       "0  <div class=\"fr-view\">This is one of the easier...  \n",
       "1  <div class=\"fr-view\">Awesome position and grea...  \n",
       "2  <div class=\"fr-view\">Start under a small roof ...  \n",
       "3  <div class=\"fr-view\">Stand Start on the left s...  \n",
       "4  <div class=\"fr-view\">Climbs a vertical to gent...  "
      ]
     },
     "execution_count": 62,
     "metadata": {},
     "output_type": "execute_result"
    }
   ],
   "source": [
    "df.head()"
   ]
  },
  {
   "cell_type": "code",
   "execution_count": 67,
   "metadata": {},
   "outputs": [],
   "source": [
    "# df[['routeid', 'desc']].to_csv('desc_1000.csv',sep='|')\n",
    "df = pd.read_csv('desc_1000.csv',delimiter='|')"
   ]
  },
  {
   "cell_type": "code",
   "execution_count": null,
   "metadata": {},
   "outputs": [],
   "source": []
  }
 ],
 "metadata": {
  "kernelspec": {
   "display_name": "Python 3",
   "language": "python",
   "name": "python3"
  },
  "language_info": {
   "codemirror_mode": {
    "name": "ipython",
    "version": 3
   },
   "file_extension": ".py",
   "mimetype": "text/x-python",
   "name": "python",
   "nbconvert_exporter": "python",
   "pygments_lexer": "ipython3",
   "version": "3.6.1"
  }
 },
 "nbformat": 4,
 "nbformat_minor": 2
}
