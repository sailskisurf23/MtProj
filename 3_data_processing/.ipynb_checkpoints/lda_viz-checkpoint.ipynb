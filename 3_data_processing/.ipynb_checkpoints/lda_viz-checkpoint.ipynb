{
 "cells": [
  {
   "cell_type": "markdown",
   "metadata": {},
   "source": [
    "## Model the NPR articles with Latent Dirichlet Allocation\n",
    "\n",
    "  1. Run the LDA model with sklearn (http://scikit-learn.org/stable/modules/decomposition.html#latentdirichletallocation)\n",
    "  2. Visualize it with pyldavis (https://pyldavis.readthedocs.io/en/latest)"
   ]
  },
  {
   "cell_type": "code",
   "execution_count": 20,
   "metadata": {},
   "outputs": [],
   "source": [
    "# USE Python3\n",
    "import numpy as np\n",
    "import pandas as pd\n",
    "import warnings, re, string\n",
    "warnings.filterwarnings('ignore', category=DeprecationWarning, module='.*/IPython/.*')\n",
    "warnings.filterwarnings('ignore', category=DeprecationWarning, module='pyLDAvis')\n",
    "\n",
    "import pyLDAvis\n",
    "import pyLDAvis.sklearn\n",
    "\n",
    "from sklearn.feature_extraction.text import TfidfVectorizer\n",
    "from sklearn.decomposition import LatentDirichletAllocation\n",
    "\n",
    "pyLDAvis.enable_notebook()\n",
    "\n",
    "df = pd.read_csv('desc_1000.csv',delimiter='|')"
   ]
  },
  {
   "cell_type": "code",
   "execution_count": 21,
   "metadata": {},
   "outputs": [],
   "source": [
    "def rem_html(desc):\n",
    "    return re.sub('<[^<]+?>', '', desc)\n",
    "\n",
    "def rem_punc(desc):\n",
    "    table = str.maketrans({key:None for key in string.punctuation})\n",
    "    return desc.translate(table)\n",
    "\n",
    "def cleaner(desc):\n",
    "    return rem_punc(rem_html(desc)).lower()"
   ]
  },
  {
   "cell_type": "code",
   "execution_count": 22,
   "metadata": {},
   "outputs": [],
   "source": [
    "df['desc_clean'] = np.vectorize(cleaner)(df.desc)"
   ]
  },
  {
   "cell_type": "code",
   "execution_count": 23,
   "metadata": {},
   "outputs": [],
   "source": [
    "text = df['desc_clean'].values.tolist()"
   ]
  },
  {
   "cell_type": "code",
   "execution_count": null,
   "metadata": {},
   "outputs": [],
   "source": []
  },
  {
   "cell_type": "code",
   "execution_count": null,
   "metadata": {},
   "outputs": [],
   "source": []
  },
  {
   "cell_type": "markdown",
   "metadata": {
    "collapsed": true
   },
   "source": [
    "## Vectorize the words\n",
    "\n",
    "Essentially create a numeric representation of the words based on frequencies"
   ]
  },
  {
   "cell_type": "code",
   "execution_count": 24,
   "metadata": {},
   "outputs": [
    {
     "name": "stdout",
     "output_type": "stream",
     "text": [
      "ready\n"
     ]
    },
    {
     "name": "stderr",
     "output_type": "stream",
     "text": [
      "/Users/colinbrochard/anaconda/lib/python3.6/site-packages/sklearn/feature_extraction/text.py:1059: FutureWarning: Conversion of the second argument of issubdtype from `float` to `np.floating` is deprecated. In future, it will be treated as `np.float64 == np.dtype(float).type`.\n",
      "  if hasattr(X, 'dtype') and np.issubdtype(X.dtype, np.float):\n"
     ]
    }
   ],
   "source": [
    "max_features = 1000\n",
    "tf_vectorizer = TfidfVectorizer(max_df=0.95, min_df=2,\n",
    "                                max_features=max_features,\n",
    "                                stop_words='english')\n",
    "tf = tf_vectorizer.fit_transform(text)\n",
    "print(\"ready\")"
   ]
  },
  {
   "cell_type": "markdown",
   "metadata": {},
   "source": [
    "## Run LDA"
   ]
  },
  {
   "cell_type": "code",
   "execution_count": 28,
   "metadata": {
    "scrolled": false
   },
   "outputs": [
    {
     "data": {
      "text/html": [
       "\n",
       "<link rel=\"stylesheet\" type=\"text/css\" href=\"https://cdn.rawgit.com/bmabey/pyLDAvis/files/ldavis.v1.0.0.css\">\n",
       "\n",
       "\n",
       "<div id=\"ldavis_el3363247809163123399149747\"></div>\n",
       "<script type=\"text/javascript\">\n",
       "\n",
       "var ldavis_el3363247809163123399149747_data = {\"mdsDat\": {\"Freq\": [84.17565312338904, 5.369109491839205, 5.274459955630908, 5.180777429140856], \"cluster\": [1, 1, 1, 1], \"topics\": [1, 2, 3, 4], \"x\": [0.07405206196409563, -0.02527531786660249, -0.028651638292942868, -0.020125105804550257], \"y\": [1.2474231057825975e-05, -0.006095538304431543, 0.0038196186662796186, 0.0022634454070940254]}, \"tinfo\": {\"Category\": [\"Default\", \"Default\", \"Default\", \"Default\", \"Default\", \"Default\", \"Default\", \"Default\", \"Default\", \"Default\", \"Default\", \"Default\", \"Default\", \"Default\", \"Default\", \"Default\", \"Default\", \"Default\", \"Default\", \"Default\", \"Topic1\", \"Topic1\", \"Topic1\", \"Topic1\", \"Topic1\", \"Topic1\", \"Topic1\", \"Topic1\", \"Topic1\", \"Topic1\", \"Topic1\", \"Topic1\", \"Topic1\", \"Topic1\", \"Topic1\", \"Topic1\", \"Topic1\", \"Topic1\", \"Topic1\", \"Topic1\", \"Topic1\", \"Topic1\", \"Topic1\", \"Topic2\", \"Topic2\", \"Topic2\", \"Topic2\", \"Topic2\", \"Topic2\", \"Topic2\", \"Topic2\", \"Topic2\", \"Topic2\", \"Topic2\", \"Topic2\", \"Topic2\", \"Topic2\", \"Topic2\", \"Topic2\", \"Topic2\", \"Topic2\", \"Topic2\", \"Topic2\", \"Topic2\", \"Topic2\", \"Topic2\", \"Topic2\", \"Topic2\", \"Topic2\", \"Topic2\", \"Topic2\", \"Topic2\", \"Topic2\", \"Topic2\", \"Topic2\", \"Topic3\", \"Topic3\", \"Topic3\", \"Topic3\", \"Topic3\", \"Topic3\", \"Topic3\", \"Topic3\", \"Topic3\", \"Topic3\", \"Topic3\", \"Topic3\", \"Topic3\", \"Topic3\", \"Topic3\", \"Topic3\", \"Topic3\", \"Topic3\", \"Topic3\", \"Topic3\", \"Topic3\", \"Topic3\", \"Topic3\", \"Topic3\", \"Topic3\", \"Topic3\", \"Topic3\", \"Topic3\", \"Topic3\", \"Topic3\", \"Topic3\", \"Topic4\", \"Topic4\", \"Topic4\", \"Topic4\", \"Topic4\", \"Topic4\", \"Topic4\", \"Topic4\", \"Topic4\", \"Topic4\", \"Topic4\", \"Topic4\", \"Topic4\", \"Topic4\", \"Topic4\", \"Topic4\", \"Topic4\", \"Topic4\", \"Topic4\", \"Topic4\", \"Topic4\", \"Topic4\", \"Topic4\", \"Topic4\", \"Topic4\", \"Topic4\", \"Topic4\", \"Topic4\", \"Topic4\", \"Topic4\", \"Topic4\", \"Topic4\", \"Topic4\", \"Topic4\", \"Topic4\", \"Topic4\", \"Topic4\"], \"Freq\": [22.0, 4.0, 7.0, 6.0, 4.0, 6.0, 26.0, 21.0, 4.0, 4.0, 25.0, 2.0, 3.0, 3.0, 8.0, 3.0, 10.0, 5.0, 8.0, 11.0, 43.14527640390358, 42.21711679049632, 32.03364492837009, 41.17870338043464, 35.86942891246335, 27.732708269149192, 35.605280190219524, 34.45540905926562, 22.664892654572828, 22.34727666001309, 26.24707542516217, 20.899060869113228, 21.802363048309562, 16.651230458071133, 17.475215913461078, 16.53961272388222, 16.156986669141023, 20.67159436088542, 14.495575070733217, 24.2656053637966, 25.225604950827705, 20.389112461369105, 20.77636988959608, 1.1931333082165907, 0.7015891310611001, 0.789910626682906, 0.7114782682484865, 0.6568820936155083, 0.6551617630034866, 0.6418200900080859, 0.7198925191744091, 0.6807212381736714, 0.6273119562168573, 0.6017482675850916, 0.1968775876636341, 0.20748644148652565, 0.19907419457946857, 0.19301294056676307, 0.19493877281793304, 0.29836402963790315, 0.21249716414567593, 0.18871386767108045, 0.2037709025194555, 0.20257901913829254, 0.3365242438763978, 0.5503840880256002, 0.2857567255713063, 0.5410614636219304, 0.9408059476911171, 0.24226128050465062, 0.5059630760926596, 0.4383205833122115, 0.47078333688970675, 0.43063186133898346, 0.3891382581519309, 1.3235087418180385, 0.872735470169652, 0.5206255092872278, 0.5164538873047415, 0.5912466831282689, 0.4791638103360213, 0.46295459337700196, 0.330860155888492, 0.4723893049473441, 0.46690108682545833, 0.18903948421534417, 0.2006431898860012, 0.20410988418023945, 0.3298651685265733, 0.47705602132761493, 0.1898859795060598, 0.19191372907119436, 0.19234101342957197, 0.2288882623614372, 0.20121790681921672, 0.21192500545025886, 0.4610118186438959, 0.4664252787651571, 0.4505840775320019, 0.326722770087946, 0.4493940629351647, 0.4444308003646975, 0.4188561825165619, 0.30488184202112223, 0.42920564339128275, 0.3601290131457047, 1.7643596948605436, 0.5517352295034714, 0.41111098344379, 0.325394004339285, 0.3833586400920057, 0.25457920837221626, 0.23670232871824734, 0.4085045412250936, 0.289221653960402, 0.190579758883384, 0.27411529774609766, 0.3216233766330179, 0.18728458620999766, 0.19402712431823557, 0.20102241147064476, 0.36050288763477967, 0.18390104634158277, 0.18698188804633392, 0.2272932644524451, 0.2890150350891297, 0.23327189099970108, 0.3809728078350555, 0.3459253415563323, 0.3828076874615126, 0.23588220851548727, 0.2948429976455137, 0.37112795858508374, 0.266063846946427, 0.25510528800038873, 0.3971494574804305, 0.3575630150312786, 0.3458845783486749, 0.3452696389311453, 0.34341455991281145, 0.32926494567782866, 0.332048082277208, 0.327022122422899], \"Term\": [\"roof\", \"ice\", \"use\", \"getting\", \"clipping\", \"dont\", \"good\", \"ledge\", \"day\", \"delicate\", \"climbing\", \"permit\", \"pump\", \"climbers\", \"overhanging\", \"requires\", \"jug\", \"splitter\", \"near\", \"starts\", \"left\", \"right\", \"face\", \"climb\", \"crack\", \"bolt\", \"start\", \"route\", \"arete\", \"bolts\", \"crux\", \"fun\", \"holds\", \"boulder\", \"feet\", \"rock\", \"hand\", \"moves\", \"easy\", \"climbing\", \"good\", \"ledge\", \"roof\", \"pay\", \"penelope\", \"permadraw\", \"considered\", \"add\", \"page\", \"link\", \"permadraws\", \"says\", \"useful\", \"pump\", \"50m\", \"45m\", \"p6\", \"53\", \"40m\", \"crystals\", \"510c\", \"35m\", \"arc\", \"120\", \"crimpers\", \"clipping\", \"balancey\", \"use\", \"roof\", \"iron\", \"good\", \"ledge\", \"start\", \"route\", \"crack\", \"permit\", \"daily\", \"person\", \"nature\", \"private\", \"sent\", \"later\", \"75\", \"away\", \"years\", \"50m\", \"53\", \"35m\", \"days\", \"access\", \"p6\", \"40m\", \"45m\", \"care\", \"parties\", \"late\", \"isnt\", \"requires\", \"climbers\", \"toprope\", \"day\", \"getting\", \"dont\", \"splitter\", \"climbing\", \"just\", \"ice\", \"lunge\", \"lowangle\", \"glacier\", \"adds\", \"late\", \"rocky\", \"early\", \"park\", \"50m\", \"soft\", \"private\", \"p6\", \"35m\", \"p5\", \"length\", \"53\", \"40m\", \"tourist\", \"summer\", \"turns\", \"exciting\", \"difficulty\", \"snow\", \"slopes\", \"similar\", \"delicate\", \"fall\", \"consistent\", \"climb\", \"roof\", \"moves\", \"fun\", \"crux\", \"good\", \"left\", \"start\"], \"Total\": [22.0, 4.0, 7.0, 6.0, 4.0, 6.0, 26.0, 21.0, 4.0, 4.0, 25.0, 2.0, 3.0, 3.0, 8.0, 3.0, 10.0, 5.0, 8.0, 11.0, 43.96016689267042, 43.01898342344132, 32.756372111382646, 42.12808129507383, 36.78796991631839, 28.496574398098932, 36.641623617290506, 35.46730554022649, 23.354039776529355, 23.05174274314787, 27.088114465008047, 21.66899900598929, 22.609076134323118, 17.28163427806333, 18.138941706605603, 17.181500837341193, 16.793723257943945, 21.500676018212864, 15.081209031099975, 25.26211201945966, 26.268645747336823, 21.31486676690601, 22.27787758930219, 1.8826944197252817, 1.3882723458538964, 1.8276978161489017, 1.6950944456382784, 1.6865659463570932, 1.710534329442037, 1.7573044074037056, 1.9867380027638986, 2.0040565487782764, 2.120692609855359, 3.0967157570359487, 1.0776140244318855, 1.1746668791974249, 1.1455777181007845, 1.1502986330462779, 1.1707733112047716, 1.797441246512033, 1.291971288768526, 1.1875361404667022, 1.2959379214179623, 1.2914377492129778, 2.4275705698473784, 4.724055583741484, 2.0136088472840266, 7.072335119220521, 22.27787758930219, 1.9349666353772326, 26.268645747336823, 21.31486676690601, 36.641623617290506, 35.46730554022649, 36.78796991631839, 2.0228685074216144, 1.5734840955672065, 1.320578006756342, 1.6454568093427067, 1.8882668657416906, 1.7725001038441783, 1.8731896923579845, 1.485987310131032, 2.259084279003303, 2.264189289852579, 1.0776140244318855, 1.1502986330462779, 1.1875361404667022, 1.9222946735080437, 2.811735613101444, 1.1455777181007845, 1.1707733112047716, 1.1746668791974249, 1.4190883057697181, 1.2558082442607716, 1.327041657568677, 3.15930720794511, 3.4169805901547616, 3.72699789656098, 2.5079363352962583, 4.06063046730924, 6.245962439835741, 6.473389478382102, 5.202408173588703, 25.26211201945966, 16.99290880458761, 4.7048999536926654, 1.8156472831303303, 1.7418737746183437, 1.41684324799003, 1.810625879731647, 1.327041657568677, 1.2795626936285522, 2.2431266828869743, 1.594751054299882, 1.0776140244318855, 1.5991784734657253, 1.8882668657416906, 1.1455777181007845, 1.1875361404667022, 1.2384761671776907, 2.249304503530992, 1.1502986330462779, 1.1707733112047716, 1.4339685086073528, 1.8249467048210264, 1.4792052949848382, 2.6064661602903216, 2.45193010572495, 3.4762541048872926, 1.6242823206867905, 2.4369548205614544, 4.5766200028414925, 2.7041387899322014, 2.3043278136221423, 42.12808129507383, 22.27787758930219, 21.500676018212864, 21.66899900598929, 27.088114465008047, 26.268645747336823, 43.96016689267042, 36.641623617290506], \"loglift\": [20.0, 19.0, 18.0, 17.0, 16.0, 15.0, 14.0, 13.0, 12.0, 11.0, 10.0, 9.0, 8.0, 7.0, 6.0, 5.0, 4.0, 3.0, 2.0, 1.0, 0.1536, 0.1534, 0.15, 0.1495, 0.147, 0.1451, 0.1436, 0.1433, 0.1423, 0.1412, 0.1407, 0.1361, 0.1359, 0.1351, 0.135, 0.1342, 0.1336, 0.1329, 0.1327, 0.132, 0.1317, 0.1279, 0.1025, 2.4684, 2.242, 2.0856, 2.0564, 1.9816, 1.9648, 1.9173, 1.9094, 1.8447, 1.7065, 1.2862, 1.2246, 1.1908, 1.1745, 1.1395, 1.1318, 1.1287, 1.1195, 1.0851, 1.0745, 1.0721, 0.9485, 0.7747, 0.972, 0.3541, -0.2401, 0.8467, -1.0252, -0.9597, -1.43, -1.4866, -1.6245, 2.5181, 2.3529, 2.0115, 1.7835, 1.7811, 1.6342, 1.5445, 1.4402, 1.3774, 1.3634, 1.2017, 1.196, 1.1813, 1.1797, 1.1684, 1.1451, 1.1339, 1.1328, 1.1178, 1.1111, 1.1078, 1.0176, 0.9509, 0.8295, 0.9042, 0.7411, 0.2994, 0.2044, 0.1053, -1.1328, -0.9118, 1.9794, 1.7691, 1.5164, 1.4891, 1.4078, 1.3091, 1.2727, 1.2571, 1.2529, 1.2278, 1.1965, 1.1902, 1.1492, 1.1486, 1.142, 1.1293, 1.1268, 1.1258, 1.1183, 1.1174, 1.1132, 1.0372, 1.0018, 0.754, 1.0307, 0.8482, 0.448, 0.6414, 0.7593, -1.7039, -1.1718, -1.1695, -1.1791, -1.4077, -1.4191, -1.9255, -1.7587], \"logprob\": [20.0, 19.0, 18.0, 17.0, 16.0, 15.0, 14.0, 13.0, 12.0, 11.0, 10.0, 9.0, 8.0, 7.0, 6.0, 5.0, 4.0, 3.0, 2.0, 1.0, -4.3398, -4.3615, -4.6375, -4.3864, -4.5244, -4.7817, -4.5318, -4.5647, -4.9835, -4.9976, -4.8368, -5.0646, -5.0223, -5.2918, -5.2435, -5.2986, -5.322, -5.0756, -5.4305, -4.9153, -4.8765, -5.0893, -5.0705, -5.1755, -5.7065, -5.5879, -5.6925, -5.7723, -5.775, -5.7955, -5.6807, -5.7367, -5.8184, -5.86, -6.9773, -6.9248, -6.9662, -6.9971, -6.9872, -6.5615, -6.9009, -7.0196, -6.9428, -6.9487, -6.4412, -5.9492, -6.6047, -5.9663, -5.4131, -6.7698, -6.0334, -6.1769, -6.1054, -6.1946, -6.2959, -5.054, -5.4704, -5.987, -5.9951, -5.8598, -6.07, -6.1044, -6.4404, -6.0842, -6.0959, -7.0001, -6.9405, -6.9234, -6.4434, -6.0744, -6.9956, -6.985, -6.9828, -6.8088, -6.9377, -6.8858, -6.1086, -6.097, -6.1315, -6.4529, -6.1341, -6.1453, -6.2045, -6.5221, -6.1801, -6.3556, -4.7486, -5.9111, -6.2053, -6.4391, -6.2752, -6.6845, -6.7573, -6.2116, -6.5569, -6.9741, -6.6106, -6.4507, -6.9915, -6.9561, -6.9207, -6.3366, -7.0097, -6.9931, -6.7979, -6.5577, -6.7719, -6.2814, -6.3779, -6.2766, -6.7608, -6.5377, -6.3076, -6.6404, -6.6825, -6.2398, -6.3448, -6.378, -6.3798, -6.3852, -6.4273, -6.4188, -6.4341]}, \"token.table\": {\"Topic\": [1, 1, 1, 1, 1, 1, 1, 1, 1, 1, 2, 1, 1, 1, 1, 1, 1, 1, 1, 1, 1, 1, 1, 1, 2, 1, 2, 1, 1, 1, 1, 1, 3, 1, 1, 1, 1, 1, 1, 1, 1, 1, 1, 1, 1, 1, 1, 1, 2, 1, 1, 1, 4, 1, 1, 1, 1, 1, 1, 1, 1, 1, 1, 2, 1, 1, 4, 1, 1, 3, 1, 1, 1, 1, 1, 2, 1, 1, 2, 2, 1, 2, 1, 2, 3, 3, 1, 3, 1, 2, 1, 1, 1, 1, 1, 2, 1, 1, 2, 1, 1, 1, 1, 1, 1, 1, 1, 1, 1, 1, 1, 1, 2, 1, 2, 1], \"Freq\": [0.7743307802558935, 0.842079635241248, 0.8541363135199596, 0.8513051808213375, 0.9279760446020519, 0.7740110083662729, 0.8693394665277054, 0.6729532568564274, 0.7113044308578961, 0.5929207821134745, 0.5929207821134745, 0.5522952097360997, 0.771641900027002, 0.984840319708406, 0.44265723474521945, 0.49662078181112923, 0.9825742423927256, 0.9543746971816046, 0.9837032613043533, 0.7046777821607069, 0.9732225807491086, 0.8049374008952879, 0.9500393308965045, 0.8467300879707204, 0.2116825219926801, 0.5899376300672471, 0.5899376300672471, 0.8679320659920459, 0.9785807719721751, 0.8238689432314794, 0.9598305571835333, 0.5563464185216167, 0.635532321436984, 0.7388015295043426, 0.520211606358496, 0.8740074547409473, 0.8156839362305843, 0.9268714666461848, 0.44580629691095675, 0.9283075362943156, 0.7673224500168572, 0.9769091610996868, 0.7396070081336854, 0.9372101346909981, 0.9691264462283478, 0.800517141779593, 0.705794378749114, 0.9517049428608081, 0.038068197714432324, 0.9527369097517735, 0.9730605474233212, 0.4250887414577837, 0.4250887414577837, 0.5168047767423362, 0.6330501810556272, 0.949200455312, 0.9415692265517512, 0.7535558467939414, 0.5338487629307809, 0.9383122221083968, 0.9781582518780084, 0.8891637378844749, 0.5690533727605168, 0.5690533727605168, 0.5740944117601786, 0.5507677671160419, 0.5507677671160419, 0.9767134755303158, 0.6077339704829199, 0.6077339704829199, 0.9212956565294468, 0.9656485053842827, 0.8074438786164585, 0.8729220062501452, 0.5846126457609256, 0.5846126457609256, 0.6270571179769585, 0.7962999164642748, 0.5311536431631415, 0.7203197578533639, 0.5471363981312163, 0.5471363981312163, 0.5033376311364789, 0.5033376311364789, 0.4943475052041907, 0.7572441725394482, 0.5295861608031823, 0.5295861608031823, 0.6458455205182665, 0.32292276025913325, 0.877968112737838, 0.9763131682259588, 0.98943626409244, 0.7815170018471114, 0.942639168198149, 0.04488757943800709, 0.9586293484132226, 0.4989879155903187, 0.4989879155903187, 0.5641748611643019, 0.8206963802222712, 0.6156565193526042, 0.8629979021908314, 0.6253210736590326, 0.7688746954356597, 0.9824892143429, 0.900875134215706, 0.547961207501712, 0.7974684093261656, 0.6973653842448632, 0.6760386833324917, 0.848376087792244, 0.14139601463204068, 0.4715440584612612, 0.4715440584612612, 0.4416591865714151], \"Term\": [\"120\", \"35m\", \"40m\", \"45m\", \"50m\", \"510c\", \"53\", \"75\", \"access\", \"add\", \"add\", \"adds\", \"arc\", \"arete\", \"away\", \"balancey\", \"bolt\", \"bolts\", \"boulder\", \"care\", \"climb\", \"climbers\", \"climbing\", \"clipping\", \"clipping\", \"considered\", \"considered\", \"consistent\", \"crack\", \"crimpers\", \"crux\", \"crystals\", \"daily\", \"day\", \"days\", \"delicate\", \"difficulty\", \"dont\", \"early\", \"easy\", \"exciting\", \"face\", \"fall\", \"feet\", \"fun\", \"getting\", \"glacier\", \"good\", \"good\", \"hand\", \"holds\", \"ice\", \"ice\", \"iron\", \"isnt\", \"jug\", \"just\", \"late\", \"later\", \"ledge\", \"left\", \"length\", \"link\", \"link\", \"lowangle\", \"lunge\", \"lunge\", \"moves\", \"nature\", \"nature\", \"near\", \"overhanging\", \"p5\", \"p6\", \"page\", \"page\", \"park\", \"parties\", \"pay\", \"penelope\", \"permadraw\", \"permadraw\", \"permadraws\", \"permadraws\", \"permit\", \"person\", \"private\", \"private\", \"pump\", \"pump\", \"requires\", \"right\", \"rock\", \"rocky\", \"roof\", \"roof\", \"route\", \"says\", \"says\", \"sent\", \"similar\", \"slopes\", \"snow\", \"soft\", \"splitter\", \"start\", \"starts\", \"summer\", \"toprope\", \"tourist\", \"turns\", \"use\", \"use\", \"useful\", \"useful\", \"years\"]}, \"R\": 20, \"lambda.step\": 0.01, \"plot.opts\": {\"xlab\": \"PC1\", \"ylab\": \"PC2\"}, \"topic.order\": [2, 3, 1, 4]};\n",
       "\n",
       "function LDAvis_load_lib(url, callback){\n",
       "  var s = document.createElement('script');\n",
       "  s.src = url;\n",
       "  s.async = true;\n",
       "  s.onreadystatechange = s.onload = callback;\n",
       "  s.onerror = function(){console.warn(\"failed to load library \" + url);};\n",
       "  document.getElementsByTagName(\"head\")[0].appendChild(s);\n",
       "}\n",
       "\n",
       "if(typeof(LDAvis) !== \"undefined\"){\n",
       "   // already loaded: just create the visualization\n",
       "   !function(LDAvis){\n",
       "       new LDAvis(\"#\" + \"ldavis_el3363247809163123399149747\", ldavis_el3363247809163123399149747_data);\n",
       "   }(LDAvis);\n",
       "}else if(typeof define === \"function\" && define.amd){\n",
       "   // require.js is available: use it to load d3/LDAvis\n",
       "   require.config({paths: {d3: \"https://cdnjs.cloudflare.com/ajax/libs/d3/3.5.5/d3.min\"}});\n",
       "   require([\"d3\"], function(d3){\n",
       "      window.d3 = d3;\n",
       "      LDAvis_load_lib(\"https://cdn.rawgit.com/bmabey/pyLDAvis/files/ldavis.v1.0.0.js\", function(){\n",
       "        new LDAvis(\"#\" + \"ldavis_el3363247809163123399149747\", ldavis_el3363247809163123399149747_data);\n",
       "      });\n",
       "    });\n",
       "}else{\n",
       "    // require.js not available: dynamically load d3 & LDAvis\n",
       "    LDAvis_load_lib(\"https://cdnjs.cloudflare.com/ajax/libs/d3/3.5.5/d3.min.js\", function(){\n",
       "         LDAvis_load_lib(\"https://cdn.rawgit.com/bmabey/pyLDAvis/files/ldavis.v1.0.0.js\", function(){\n",
       "                 new LDAvis(\"#\" + \"ldavis_el3363247809163123399149747\", ldavis_el3363247809163123399149747_data);\n",
       "            })\n",
       "         });\n",
       "}\n",
       "</script>"
      ],
      "text/plain": [
       "PreparedData(topic_coordinates=            Freq  cluster  topics         x         y\n",
       "topic                                                \n",
       "1      84.175653        1       1  0.074052  0.000012\n",
       "2       5.369109        1       2 -0.025275 -0.006096\n",
       "0       5.274460        1       3 -0.028652  0.003820\n",
       "3       5.180777        1       4 -0.020125  0.002263, topic_info=     Category       Freq         Term      Total  loglift  logprob\n",
       "term                                                              \n",
       "740   Default  22.000000         roof  22.000000  20.0000  20.0000\n",
       "437   Default   4.000000          ice   4.000000  19.0000  19.0000\n",
       "952   Default   7.000000          use   7.000000  18.0000  18.0000\n",
       "376   Default   6.000000      getting   6.000000  17.0000  17.0000\n",
       "198   Default   4.000000     clipping   4.000000  16.0000  16.0000\n",
       "278   Default   6.000000         dont   6.000000  15.0000  15.0000\n",
       "382   Default  26.000000         good  26.000000  14.0000  14.0000\n",
       "483   Default  21.000000        ledge  21.000000  13.0000  13.0000\n",
       "240   Default   4.000000          day   4.000000  12.0000  12.0000\n",
       "248   Default   4.000000     delicate   4.000000  11.0000  11.0000\n",
       "195   Default  25.000000     climbing  25.000000  10.0000  10.0000\n",
       "626   Default   2.000000       permit   2.000000   9.0000   9.0000\n",
       "688   Default   3.000000         pump   3.000000   8.0000   8.0000\n",
       "194   Default   3.000000     climbers   3.000000   7.0000   7.0000\n",
       "599   Default   8.000000  overhanging   8.000000   6.0000   6.0000\n",
       "723   Default   3.000000     requires   3.000000   5.0000   5.0000\n",
       "457   Default  10.000000          jug  10.000000   4.0000   4.0000\n",
       "840   Default   5.000000     splitter   5.000000   3.0000   3.0000\n",
       "562   Default   8.000000         near   8.000000   2.0000   2.0000\n",
       "856   Default  11.000000       starts  11.000000   1.0000   1.0000\n",
       "485    Topic1  43.145276         left  43.960167   0.1536  -4.3398\n",
       "729    Topic1  42.217117        right  43.018983   0.1534  -4.3615\n",
       "320    Topic1  32.033645         face  32.756372   0.1500  -4.6375\n",
       "191    Topic1  41.178703        climb  42.128081   0.1495  -4.3864\n",
       "219    Topic1  35.869429        crack  36.787970   0.1470  -4.5244\n",
       "134    Topic1  27.732708         bolt  28.496574   0.1451  -4.7817\n",
       "854    Topic1  35.605280        start  36.641624   0.1436  -4.5318\n",
       "747    Topic1  34.455409        route  35.467306   0.1433  -4.5647\n",
       "90     Topic1  22.664893        arete  23.354040   0.1423  -4.9835\n",
       "136    Topic1  22.347277        bolts  23.051743   0.1412  -4.9976\n",
       "...       ...        ...          ...        ...      ...      ...\n",
       "286    Topic4   0.408505        early   2.243127   1.2571  -6.2116\n",
       "613    Topic4   0.289222         park   1.594751   1.2529  -6.5569\n",
       "28     Topic4   0.190580          50m   1.077614   1.2278  -6.9741\n",
       "827    Topic4   0.274115         soft   1.599178   1.1965  -6.6106\n",
       "669    Topic4   0.321623      private   1.888267   1.1902  -6.4507\n",
       "609    Topic4   0.187285           p6   1.145578   1.1492  -6.9915\n",
       "21     Topic4   0.194027          35m   1.187536   1.1486  -6.9561\n",
       "608    Topic4   0.201022           p5   1.238476   1.1420  -6.9207\n",
       "488    Topic4   0.360503       length   2.249305   1.1293  -6.3366\n",
       "38     Topic4   0.183901           53   1.150299   1.1268  -7.0097\n",
       "24     Topic4   0.186982          40m   1.170773   1.1258  -6.9931\n",
       "921    Topic4   0.227293      tourist   1.433969   1.1183  -6.7979\n",
       "881    Topic4   0.289015       summer   1.824947   1.1174  -6.5577\n",
       "942    Topic4   0.233272        turns   1.479205   1.1132  -6.7719\n",
       "311    Topic4   0.380973     exciting   2.606466   1.0372  -6.2814\n",
       "263    Topic4   0.345925   difficulty   2.451930   1.0018  -6.3779\n",
       "826    Topic4   0.382808         snow   3.476254   0.7540  -6.2766\n",
       "817    Topic4   0.235882       slopes   1.624282   1.0307  -6.7608\n",
       "795    Topic4   0.294843      similar   2.436955   0.8482  -6.5377\n",
       "248    Topic4   0.371128     delicate   4.576620   0.4480  -6.3076\n",
       "326    Topic4   0.266064         fall   2.704139   0.6414  -6.6404\n",
       "210    Topic4   0.255105   consistent   2.304328   0.7593  -6.6825\n",
       "191    Topic4   0.397149        climb  42.128081  -1.7039  -6.2398\n",
       "740    Topic4   0.357563         roof  22.277878  -1.1718  -6.3448\n",
       "554    Topic4   0.345885        moves  21.500676  -1.1695  -6.3780\n",
       "366    Topic4   0.345270          fun  21.668999  -1.1791  -6.3798\n",
       "231    Topic4   0.343415         crux  27.088114  -1.4077  -6.3852\n",
       "382    Topic4   0.329265         good  26.268646  -1.4191  -6.4273\n",
       "485    Topic4   0.332048         left  43.960167  -1.9255  -6.4188\n",
       "854    Topic4   0.327022        start  36.641624  -1.7587  -6.4341\n",
       "\n",
       "[143 rows x 6 columns], token_table=      Topic      Freq        Term\n",
       "term                             \n",
       "10        1  0.774331         120\n",
       "21        1  0.842080         35m\n",
       "24        1  0.854136         40m\n",
       "25        1  0.851305         45m\n",
       "28        1  0.927976         50m\n",
       "32        1  0.774011        510c\n",
       "38        1  0.869339          53\n",
       "50        1  0.672953          75\n",
       "55        1  0.711304      access\n",
       "57        1  0.592921         add\n",
       "57        2  0.592921         add\n",
       "61        1  0.552295        adds\n",
       "86        1  0.771642         arc\n",
       "90        1  0.984840       arete\n",
       "103       1  0.442657        away\n",
       "108       1  0.496621    balancey\n",
       "134       1  0.982574        bolt\n",
       "136       1  0.954375       bolts\n",
       "139       1  0.983703     boulder\n",
       "166       1  0.704678        care\n",
       "191       1  0.973223       climb\n",
       "194       1  0.804937    climbers\n",
       "195       1  0.950039    climbing\n",
       "198       1  0.846730    clipping\n",
       "198       2  0.211683    clipping\n",
       "209       1  0.589938  considered\n",
       "209       2  0.589938  considered\n",
       "210       1  0.867932  consistent\n",
       "219       1  0.978581       crack\n",
       "224       1  0.823869    crimpers\n",
       "...     ...       ...         ...\n",
       "669       1  0.529586     private\n",
       "669       3  0.529586     private\n",
       "688       1  0.645846        pump\n",
       "688       2  0.322923        pump\n",
       "723       1  0.877968    requires\n",
       "729       1  0.976313       right\n",
       "738       1  0.989436        rock\n",
       "739       1  0.781517       rocky\n",
       "740       1  0.942639        roof\n",
       "740       2  0.044888        roof\n",
       "747       1  0.958629       route\n",
       "758       1  0.498988        says\n",
       "758       2  0.498988        says\n",
       "773       1  0.564175        sent\n",
       "795       1  0.820696     similar\n",
       "817       1  0.615657      slopes\n",
       "826       1  0.862998        snow\n",
       "827       1  0.625321        soft\n",
       "840       1  0.768875    splitter\n",
       "854       1  0.982489       start\n",
       "856       1  0.900875      starts\n",
       "881       1  0.547961      summer\n",
       "919       1  0.797468     toprope\n",
       "921       1  0.697365     tourist\n",
       "942       1  0.676039       turns\n",
       "952       1  0.848376         use\n",
       "952       2  0.141396         use\n",
       "954       1  0.471544      useful\n",
       "954       2  0.471544      useful\n",
       "997       1  0.441659       years\n",
       "\n",
       "[116 rows x 3 columns], R=20, lambda_step=0.01, plot_opts={'xlab': 'PC1', 'ylab': 'PC2'}, topic_order=[2, 3, 1, 4])"
      ]
     },
     "execution_count": 28,
     "metadata": {},
     "output_type": "execute_result"
    }
   ],
   "source": [
    "n_topics = 4\n",
    "lda_model = LatentDirichletAllocation(n_topics=n_topics, max_iter=5,\n",
    "                                      learning_method='online',\n",
    "                                      learning_offset=50.,\n",
    "                                      random_state=0)\n",
    "\n",
    "lda_model.fit(tf)\n",
    "pyLDAvis.sklearn.prepare(lda_model,tf, tf_vectorizer, R=20)"
   ]
  },
  {
   "cell_type": "code",
   "execution_count": 26,
   "metadata": {},
   "outputs": [],
   "source": [
    "def get_top_words(model, feature_names, n_top_words):\n",
    "    top_words = {}\n",
    "    for topic_idx, topic in enumerate(model.components_):\n",
    "        _top_words = [feature_names[i] for i in topic.argsort()[:-n_top_words - 1:-1]]\n",
    "        top_words[str(topic_idx)] = _top_words\n",
    "    return(top_words)"
   ]
  },
  {
   "cell_type": "code",
   "execution_count": 27,
   "metadata": {},
   "outputs": [
    {
     "name": "stdout",
     "output_type": "stream",
     "text": [
      "5\n",
      "token-topic matrix (1000, 5)\n",
      "0 permit daily person private nature sent access requires later away years isnt day climbing climbers\n",
      "1 left right climb crack start route face bolt crux good climbing arete bolts holds fun\n",
      "2 pay roof permadraw permadraws penelope considered says rounded extension pump check start good clipping tight\n",
      "3 quickly lunge climb start doesnt adds technique length surprisingly offwidth difficulty left starts crux good\n",
      "4 ice beginner add standing page link useful use start glacier snow park route left climb\n",
      "total words: 63\n"
     ]
    }
   ],
   "source": [
    "## get the token to topic matrix\n",
    "word_topic = np.zeros((max_features,n_topics),)\n",
    "print(n_topics)\n",
    "lda_model.components_\n",
    "for topic_idx, topic in enumerate(lda_model.components_):\n",
    "    word_topic[:,topic_idx] = topic\n",
    "\n",
    "print(\"token-topic matrix\",word_topic.shape)\n",
    "\n",
    "## create a matrix of the top words used to define each topic\n",
    "top_words = 15\n",
    "tf_feature_names = np.array(tf_vectorizer.get_feature_names())\n",
    "top_words = get_top_words(lda_model,tf_feature_names,top_words)\n",
    "all_top_words = np.array(list(set().union(*[v for v in top_words.values()])))\n",
    "\n",
    "for key,vals in top_words.items():\n",
    "    print(key,\" \".join(vals))\n",
    "print(\"total words: %s\"%len(all_top_words))\n",
    "\n",
    "top_word_inds = [np.where(tf_feature_names == tw)[0][0] for tw in all_top_words]"
   ]
  },
  {
   "cell_type": "raw",
   "metadata": {},
   "source": []
  }
 ],
 "metadata": {
  "kernelspec": {
   "display_name": "Python 3",
   "language": "python",
   "name": "python3"
  },
  "language_info": {
   "codemirror_mode": {
    "name": "ipython",
    "version": 3
   },
   "file_extension": ".py",
   "mimetype": "text/x-python",
   "name": "python",
   "nbconvert_exporter": "python",
   "pygments_lexer": "ipython3",
   "version": "3.6.1"
  }
 },
 "nbformat": 4,
 "nbformat_minor": 1
}
