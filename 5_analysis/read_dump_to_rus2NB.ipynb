{
 "cells": [
  {
   "cell_type": "code",
   "execution_count": 5,
   "metadata": {},
   "outputs": [],
   "source": [
    "import pandas as pd\n",
    "import bson, sys, csv\n",
    "sys.path.insert(0, '/Users/colinbrochard/DSI_Capstone_local/MtProjRec/1_data_coll/')\n",
    "import mt_scrape_helpers as mh\n",
    "\n",
    "filepath_1 = '/Users/colinbrochard/DSI_Capstone_local/MtProjRec/2_data/4_dumps/dump_1/routes_db/routes_db_1.bson'\n",
    "filepath_2 = '/Users/colinbrochard/DSI_Capstone_local/MtProjRec/2_data/4_dumps/dump_1/routes_db/routes_db_2.bson'\n",
    "# filepath_3 = '/Users/colinbrochard/DSI_Capstone_local/MtProjRec/2_data/4_dumps/dump_3/routes_db/routes_db.bson'\n",
    "# filepath_4 = '/Users/colinbrochard/DSI_Capstone_local/MtProjRec/2_data/4_dumps/dump_4/routes_db/routes_db.bson'\n",
    "# filepath_5 = '/Users/colinbrochard/DSI_Capstone_local/MtProjRec/2_data/4_dumps/dump_5/routes_db/routes_db.bson'\n",
    "files = [filepath_1,filepath_2]"
   ]
  },
  {
   "cell_type": "code",
   "execution_count": null,
   "metadata": {},
   "outputs": [
    {
     "name": "stdout",
     "output_type": "stream",
     "text": [
      "/Users/colinbrochard/DSI_Capstone_local/MtProjRec/2_data/4_dumps/dump_1/routes_db/routes_db_1.bson\n",
      "writing file 0 : /Users/colinbrochard/DSI_Capstone_local/MtProjRec/2_data/4_dumps/dump_1/routes_db/routes_db_1.bson\n"
     ]
    }
   ],
   "source": [
    "for i,file in enumerate(files):\n",
    "    print(file)\n",
    "    print('writing file {} : {}'.format(i,file))\n",
    "    bson_file = open(file, 'rb')\n",
    "    b = bson.decode_all(bson_file.read())\n",
    "    df = pd.DataFrame(b)\n",
    "    data = []\n",
    "    for row in df.iterrows():\n",
    "        parsed = mh.parse_stats(dict(row[1]))\n",
    "        data += parsed\n",
    "\n",
    "    with open('/Users/colinbrochard/DSI_Capstone_local/MtProjRec/2_data/rus_{}.csv'.format(i),'w') as out:\n",
    "        csv_out=csv.writer(out)\n",
    "        csv_out.writerow(['route','user','num_stars'])\n",
    "        for row in data:\n",
    "            csv_out.writerow(row)\n",
    "    bson_file.close()"
   ]
  },
  {
   "cell_type": "code",
   "execution_count": null,
   "metadata": {},
   "outputs": [],
   "source": []
  }
 ],
 "metadata": {
  "kernelspec": {
   "display_name": "Python 3",
   "language": "python",
   "name": "python3"
  },
  "language_info": {
   "codemirror_mode": {
    "name": "ipython",
    "version": 3
   },
   "file_extension": ".py",
   "mimetype": "text/x-python",
   "name": "python",
   "nbconvert_exporter": "python",
   "pygments_lexer": "ipython3",
   "version": "3.6.1"
  }
 },
 "nbformat": 4,
 "nbformat_minor": 2
}
