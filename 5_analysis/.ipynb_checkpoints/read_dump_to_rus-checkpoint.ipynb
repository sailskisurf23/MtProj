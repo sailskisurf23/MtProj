{
 "cells": [
  {
   "cell_type": "code",
   "execution_count": 1,
   "metadata": {},
   "outputs": [],
   "source": [
    "import pymongo\n",
    "import pandas as pd\n",
    "from pymongo import MongoClient\n",
    "client = MongoClient()\n"
   ]
  },
  {
   "cell_type": "code",
   "execution_count": 13,
   "metadata": {},
   "outputs": [],
   "source": [
    "import sys\n",
    "sys.path.insert(0, '/Users/colinbrochard/DSI_Capstone_local/MtProjRec/1_data_coll/')\n",
    "\n",
    "import mt_scrape_helpers as mh"
   ]
  },
  {
   "cell_type": "code",
   "execution_count": 15,
   "metadata": {},
   "outputs": [],
   "source": [
    "import csv\n",
    "%load_ext autoreload\n",
    "%autoreload 2"
   ]
  },
  {
   "cell_type": "code",
   "execution_count": 3,
   "metadata": {},
   "outputs": [],
   "source": [
    "db = client.routes_db\n",
    "df = pd.DataFrame(list(db.routes_db.find()))"
   ]
  },
  {
   "cell_type": "code",
   "execution_count": 4,
   "metadata": {},
   "outputs": [
    {
     "data": {
      "text/html": [
       "<div>\n",
       "<style>\n",
       "    .dataframe thead tr:only-child th {\n",
       "        text-align: right;\n",
       "    }\n",
       "\n",
       "    .dataframe thead th {\n",
       "        text-align: left;\n",
       "    }\n",
       "\n",
       "    .dataframe tbody tr th {\n",
       "        vertical-align: top;\n",
       "    }\n",
       "</style>\n",
       "<table border=\"1\" class=\"dataframe\">\n",
       "  <thead>\n",
       "    <tr style=\"text-align: right;\">\n",
       "      <th></th>\n",
       "      <th>_id</th>\n",
       "      <th>page</th>\n",
       "      <th>routeid</th>\n",
       "      <th>stats</th>\n",
       "    </tr>\n",
       "  </thead>\n",
       "  <tbody>\n",
       "    <tr>\n",
       "      <th>0</th>\n",
       "      <td>5ade6caaac87fd8e8179199d</td>\n",
       "      <td>b'&lt;!DOCTYPE html&gt;\\n&lt;html&gt;\\n    &lt;head&gt;\\n       ...</td>\n",
       "      <td>106299394</td>\n",
       "      <td>b'&lt;!DOCTYPE html&gt;\\n&lt;html&gt;\\n    &lt;head&gt;\\n       ...</td>\n",
       "    </tr>\n",
       "    <tr>\n",
       "      <th>1</th>\n",
       "      <td>5ade6cb0ac87fd8e8179199e</td>\n",
       "      <td>b'&lt;!DOCTYPE html&gt;\\n&lt;html&gt;\\n    &lt;head&gt;\\n       ...</td>\n",
       "      <td>109576195</td>\n",
       "      <td>b'&lt;!DOCTYPE html&gt;\\n&lt;html&gt;\\n    &lt;head&gt;\\n       ...</td>\n",
       "    </tr>\n",
       "    <tr>\n",
       "      <th>2</th>\n",
       "      <td>5ade6cb5ac87fd8e8179199f</td>\n",
       "      <td>b'&lt;!DOCTYPE html&gt;\\n&lt;html&gt;\\n    &lt;head&gt;\\n       ...</td>\n",
       "      <td>112459780</td>\n",
       "      <td>b'&lt;!DOCTYPE html&gt;\\n&lt;html&gt;\\n    &lt;head&gt;\\n       ...</td>\n",
       "    </tr>\n",
       "    <tr>\n",
       "      <th>3</th>\n",
       "      <td>5ade6cbbac87fd8e817919a0</td>\n",
       "      <td>b'&lt;!DOCTYPE html&gt;\\n&lt;html&gt;\\n    &lt;head&gt;\\n       ...</td>\n",
       "      <td>106299399</td>\n",
       "      <td>b'&lt;!DOCTYPE html&gt;\\n&lt;html&gt;\\n    &lt;head&gt;\\n       ...</td>\n",
       "    </tr>\n",
       "    <tr>\n",
       "      <th>4</th>\n",
       "      <td>5ade6cd0ac87fd8e8ecfcbff</td>\n",
       "      <td>b'&lt;!DOCTYPE html&gt;\\n&lt;html&gt;\\n    &lt;head&gt;\\n       ...</td>\n",
       "      <td>106299394</td>\n",
       "      <td>b'&lt;!DOCTYPE html&gt;\\n&lt;html&gt;\\n    &lt;head&gt;\\n       ...</td>\n",
       "    </tr>\n",
       "  </tbody>\n",
       "</table>\n",
       "</div>"
      ],
      "text/plain": [
       "                        _id  \\\n",
       "0  5ade6caaac87fd8e8179199d   \n",
       "1  5ade6cb0ac87fd8e8179199e   \n",
       "2  5ade6cb5ac87fd8e8179199f   \n",
       "3  5ade6cbbac87fd8e817919a0   \n",
       "4  5ade6cd0ac87fd8e8ecfcbff   \n",
       "\n",
       "                                                page    routeid  \\\n",
       "0  b'<!DOCTYPE html>\\n<html>\\n    <head>\\n       ...  106299394   \n",
       "1  b'<!DOCTYPE html>\\n<html>\\n    <head>\\n       ...  109576195   \n",
       "2  b'<!DOCTYPE html>\\n<html>\\n    <head>\\n       ...  112459780   \n",
       "3  b'<!DOCTYPE html>\\n<html>\\n    <head>\\n       ...  106299399   \n",
       "4  b'<!DOCTYPE html>\\n<html>\\n    <head>\\n       ...  106299394   \n",
       "\n",
       "                                               stats  \n",
       "0  b'<!DOCTYPE html>\\n<html>\\n    <head>\\n       ...  \n",
       "1  b'<!DOCTYPE html>\\n<html>\\n    <head>\\n       ...  \n",
       "2  b'<!DOCTYPE html>\\n<html>\\n    <head>\\n       ...  \n",
       "3  b'<!DOCTYPE html>\\n<html>\\n    <head>\\n       ...  \n",
       "4  b'<!DOCTYPE html>\\n<html>\\n    <head>\\n       ...  "
      ]
     },
     "execution_count": 4,
     "metadata": {},
     "output_type": "execute_result"
    }
   ],
   "source": [
    "df.head()"
   ]
  },
  {
   "cell_type": "code",
   "execution_count": 7,
   "metadata": {},
   "outputs": [],
   "source": [
    "d = df.iloc[3]"
   ]
  },
  {
   "cell_type": "code",
   "execution_count": 19,
   "metadata": {},
   "outputs": [],
   "source": [
    "data = mh.parse_stats(d)"
   ]
  },
  {
   "cell_type": "code",
   "execution_count": 23,
   "metadata": {},
   "outputs": [
    {
     "data": {
      "text/plain": [
       "(8, 4)"
      ]
     },
     "execution_count": 23,
     "metadata": {},
     "output_type": "execute_result"
    }
   ],
   "source": [
    "df.iterrows()"
   ]
  },
  {
   "cell_type": "code",
   "execution_count": 21,
   "metadata": {},
   "outputs": [],
   "source": [
    "with open('rus1.csv','w') as out:\n",
    "    csv_out=csv.writer(out)\n",
    "    csv_out.writerow(['route','user','num_stars'])\n",
    "    for row in data:\n",
    "        csv_out.writerow(row)"
   ]
  },
  {
   "cell_type": "code",
   "execution_count": null,
   "metadata": {},
   "outputs": [],
   "source": []
  }
 ],
 "metadata": {
  "kernelspec": {
   "display_name": "Python 3",
   "language": "python",
   "name": "python3"
  },
  "language_info": {
   "codemirror_mode": {
    "name": "ipython",
    "version": 3
   },
   "file_extension": ".py",
   "mimetype": "text/x-python",
   "name": "python",
   "nbconvert_exporter": "python",
   "pygments_lexer": "ipython3",
   "version": "3.6.1"
  }
 },
 "nbformat": 4,
 "nbformat_minor": 2
}
