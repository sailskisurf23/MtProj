{
 "cells": [
  {
   "cell_type": "code",
   "execution_count": null,
   "metadata": {},
   "outputs": [],
   "source": [
    "import pymongo, csv\n",
    "import pandas as pd\n",
    "import numpy as np\n",
    "from pymongo import MongoClient\n",
    "client = MongoClient()\n",
    "pd.options.display.max_rows = 999"
   ]
  },
  {
   "cell_type": "code",
   "execution_count": null,
   "metadata": {},
   "outputs": [],
   "source": [
    "grade_map_path = '/Users/colinbrochard/DSI_Capstone_local/MtProjRec/6_app/grade_map.csv'\n",
    "write_loc = '/Users/colinbrochard/DSI_Capstone_local/MtProjRec/2_data/5_route_features/routes_features.csv'"
   ]
  },
  {
   "cell_type": "code",
   "execution_count": null,
   "metadata": {},
   "outputs": [],
   "source": [
    "db = client.routesAPI_db\n",
    "df = pd.DataFrame(list(db.routesAPI_db.find()))"
   ]
  },
  {
   "cell_type": "code",
   "execution_count": null,
   "metadata": {},
   "outputs": [],
   "source": [
    "with open(grade_map_path) as f:\n",
    "    data = [line.strip().split(\"|\") for line in f.readlines()]\n",
    "grade_map = {d[0]: d[1] for d in data}\n",
    "df['rating0'] = df['rating'].map(grade_map)"
   ]
  },
  {
   "cell_type": "code",
   "execution_count": null,
   "metadata": {},
   "outputs": [],
   "source": [
    "df['location0'] = df['location'].apply(lambda x: x[0])"
   ]
  },
  {
   "cell_type": "code",
   "execution_count": null,
   "metadata": {},
   "outputs": [],
   "source": [
    "conditions_t = [\n",
    "    (df['type'] == 'Sport') | (df['type'] == 'Sport, Aid'),\n",
    "    (df['type'] == 'Boulder'),\n",
    "    (df['type'] == 'Trad')]\n",
    "choices_t = ['Sport', 'Boulder', 'Trad']\n",
    "df['type0'] = np.select(conditions_t, choices_t, default='Trad')"
   ]
  },
  {
   "cell_type": "code",
   "execution_count": null,
   "metadata": {},
   "outputs": [],
   "source": [
    "conditions_p = [(df['pitches'] == 1) | (df['pitches'] == '')]\n",
    "choices_p = ['single_pitch']\n",
    "df['pitches0'] = np.select(conditions_p, choices_p, default='multi_pitch')"
   ]
  },
  {
   "cell_type": "code",
   "execution_count": null,
   "metadata": {},
   "outputs": [],
   "source": [
    "df_features = df[['id','name','type0','rating0','pitches0','location0']]"
   ]
  },
  {
   "cell_type": "code",
   "execution_count": null,
   "metadata": {},
   "outputs": [],
   "source": [
    "df_features.to_csv(write_loc, sep='|')"
   ]
  },
  {
   "cell_type": "code",
   "execution_count": null,
   "metadata": {},
   "outputs": [],
   "source": []
  }
 ],
 "metadata": {
  "kernelspec": {
   "display_name": "Python 3",
   "language": "python",
   "name": "python3"
  },
  "language_info": {
   "codemirror_mode": {
    "name": "ipython",
    "version": 3
   },
   "file_extension": ".py",
   "mimetype": "text/x-python",
   "name": "python",
   "nbconvert_exporter": "python",
   "pygments_lexer": "ipython3",
   "version": "3.6.1"
  }
 },
 "nbformat": 4,
 "nbformat_minor": 2
}
