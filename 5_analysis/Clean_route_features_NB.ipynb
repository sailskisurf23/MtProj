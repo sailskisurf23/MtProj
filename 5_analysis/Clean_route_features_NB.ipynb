{
 "cells": [
  {
   "cell_type": "code",
   "execution_count": 45,
   "metadata": {},
   "outputs": [],
   "source": [
    "import pymongo, csv\n",
    "import pandas as pd\n",
    "import numpy as np\n",
    "from pymongo import MongoClient\n",
    "client = MongoClient()\n",
    "pd.options.display.max_rows = 999"
   ]
  },
  {
   "cell_type": "code",
   "execution_count": 46,
   "metadata": {},
   "outputs": [],
   "source": [
    "grade_map_path = '/Users/colinbrochard/DSI_Capstone_local/MtProjRec/6_app/grade_map.csv'\n",
    "grade_num_map_path = '/Users/colinbrochard/DSI_Capstone_local/MtProjRec/6_app/grade_num_map.csv'\n",
    "write_loc = '/Users/colinbrochard/DSI_Capstone_local/MtProjRec/2_data/5_route_features/routes_features.csv'"
   ]
  },
  {
   "cell_type": "code",
   "execution_count": 47,
   "metadata": {},
   "outputs": [],
   "source": [
    "# pull data from Mongo DB into pd DF\n",
    "db = client.routesAPI_db\n",
    "df = pd.DataFrame(list(db.routesAPI_db.find()))"
   ]
  },
  {
   "cell_type": "code",
   "execution_count": 48,
   "metadata": {},
   "outputs": [],
   "source": [
    "# clean up ratings\n",
    "with open(grade_map_path) as f:\n",
    "    data = [line.strip().split(\"|\") for line in f.readlines()]\n",
    "grade_map = {d[0]: d[1] for d in data}\n",
    "df['rating0'] = df['rating'].map(grade_map)"
   ]
  },
  {
   "cell_type": "code",
   "execution_count": 49,
   "metadata": {},
   "outputs": [],
   "source": [
    "# map ratings to number\n",
    "with open(grade_num_map_path) as f:\n",
    "    data = [line.strip().split(\"|\") for line in f.readlines()]\n",
    "grade_num_map = {d[0]: d[1] for d in data}\n",
    "df['rating_num0'] = df['rating0'].map(grade_num_map)"
   ]
  },
  {
   "cell_type": "code",
   "execution_count": 50,
   "metadata": {},
   "outputs": [],
   "source": [
    "df['location0'] = df['location'].apply(lambda x: x[0])"
   ]
  },
  {
   "cell_type": "code",
   "execution_count": 51,
   "metadata": {},
   "outputs": [],
   "source": [
    "conditions_t = [\n",
    "    (df['type'] == 'Sport') | (df['type'] == 'Sport, Aid'),\n",
    "    (df['type'] == 'Boulder'),\n",
    "    (df['type'] == 'Trad')]\n",
    "choices_t = ['Sport', 'Boulder', 'Trad']\n",
    "df['type0'] = np.select(conditions_t, choices_t, default='Trad')"
   ]
  },
  {
   "cell_type": "code",
   "execution_count": 52,
   "metadata": {},
   "outputs": [],
   "source": [
    "conditions_p = [(df['pitches'] == 1) | (df['pitches'] == '')]\n",
    "choices_p = ['single-pitch']\n",
    "df['pitches0'] = np.select(conditions_p, choices_p, default='multi-pitch')"
   ]
  },
  {
   "cell_type": "code",
   "execution_count": 53,
   "metadata": {},
   "outputs": [],
   "source": [
    "df_features = df[['id','name','type0','rating0','rating_num0','pitches0','location0']]"
   ]
  },
  {
   "cell_type": "code",
   "execution_count": 54,
   "metadata": {},
   "outputs": [],
   "source": [
    "df_features.to_csv(write_loc, sep='|')"
   ]
  },
  {
   "cell_type": "code",
   "execution_count": 44,
   "metadata": {},
   "outputs": [
    {
     "data": {
      "text/plain": [
       "(25, 7)"
      ]
     },
     "execution_count": 44,
     "metadata": {},
     "output_type": "execute_result"
    }
   ],
   "source": [
    "df_features[df_features['rating_num0'].isnull()].shape"
   ]
  },
  {
   "cell_type": "code",
   "execution_count": 42,
   "metadata": {},
   "outputs": [
    {
     "name": "stdout",
     "output_type": "stream",
     "text": [
      "<class 'pandas.core.frame.DataFrame'>\n",
      "RangeIndex: 86898 entries, 0 to 86897\n",
      "Data columns (total 7 columns):\n",
      "id             86898 non-null int64\n",
      "name           86898 non-null object\n",
      "type0          86898 non-null object\n",
      "rating0        86873 non-null object\n",
      "rating_num0    86873 non-null object\n",
      "pitches0       86898 non-null object\n",
      "location0      86898 non-null object\n",
      "dtypes: int64(1), object(6)\n",
      "memory usage: 4.6+ MB\n"
     ]
    }
   ],
   "source": [
    "df_features.info()"
   ]
  },
  {
   "cell_type": "code",
   "execution_count": null,
   "metadata": {},
   "outputs": [],
   "source": []
  }
 ],
 "metadata": {
  "kernelspec": {
   "display_name": "Python 3",
   "language": "python",
   "name": "python3"
  },
  "language_info": {
   "codemirror_mode": {
    "name": "ipython",
    "version": 3
   },
   "file_extension": ".py",
   "mimetype": "text/x-python",
   "name": "python",
   "nbconvert_exporter": "python",
   "pygments_lexer": "ipython3",
   "version": "3.6.1"
  }
 },
 "nbformat": 4,
 "nbformat_minor": 2
}
