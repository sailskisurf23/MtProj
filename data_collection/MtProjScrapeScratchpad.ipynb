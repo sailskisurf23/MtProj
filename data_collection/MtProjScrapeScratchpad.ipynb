{
 "cells": [
  {
   "cell_type": "code",
   "execution_count": null,
   "metadata": {},
   "outputs": [],
   "source": [
    "import requests\n",
    "import urllib\n",
    "from bs4 import BeautifulSoup\n",
    "import os\n",
    "import time\n",
    "import random\n",
    "import json\n",
    "import random\n",
    "import MtProjScrapeHelpers as mh\n",
    "import pandas as pd\n",
    "%load_ext autoreload\n",
    "%autoreload 2"
   ]
  },
  {
   "cell_type": "markdown",
   "metadata": {},
   "source": [
    "#### scrape userIDS"
   ]
  },
  {
   "cell_type": "code",
   "execution_count": null,
   "metadata": {},
   "outputs": [],
   "source": [
    "df_zips = pd.read_csv('us_postal_codes.csv')\n",
    "df_zips['Zip Code'] = df_zips['Zip Code'].apply(str)\n",
    "list_zips_CO = list(df_zips[df_zips['State Abbreviation'] == 'CO']['Zip Code'])"
   ]
  },
  {
   "cell_type": "code",
   "execution_count": null,
   "metadata": {},
   "outputs": [],
   "source": [
    "ID_bucket = set()\n",
    "for zp in list_zips_CO:\n",
    "    time.sleep(random.random())\n",
    "    newIDS = set(scrape_funcs_mtp.get_userids(zp))\n",
    "    ID_bucket.update(newIDS)\n",
    "    print(len(ID_bucket))"
   ]
  },
  {
   "cell_type": "code",
   "execution_count": null,
   "metadata": {},
   "outputs": [],
   "source": [
    "import pickle\n",
    "with open('CO_users.txt', 'wb') as fp:\n",
    "    pickle.dump(list(ID_bucket), fp)"
   ]
  },
  {
   "cell_type": "code",
   "execution_count": null,
   "metadata": {},
   "outputs": [],
   "source": [
    "with open ('CO_users.txt', 'rb') as fp:\n",
    "    itemlist = pickle.load(fp)"
   ]
  },
  {
   "cell_type": "code",
   "execution_count": null,
   "metadata": {},
   "outputs": [],
   "source": [
    "!pwd"
   ]
  },
  {
   "cell_type": "markdown",
   "metadata": {},
   "source": [
    "#### get ticks for each user"
   ]
  },
  {
   "cell_type": "code",
   "execution_count": null,
   "metadata": {},
   "outputs": [],
   "source": [
    "#test get userticks\n",
    "user_ticks = []\n",
    "for i in bay_IDs[5:6]:\n",
    "    #time.sleep(random.random()*2)\n",
    "    data = scrape_funcs_mtp.get_user_ticks(i)\n",
    "    with open('ticks_data_94564.txt', 'w') as outfile:\n",
    "        json.dump(data, outfile)"
   ]
  },
  {
   "cell_type": "code",
   "execution_count": null,
   "metadata": {},
   "outputs": [],
   "source": [
    "scrape_funcs_mtp.get_user_ticks(bay_IDs[3])"
   ]
  },
  {
   "cell_type": "code",
   "execution_count": null,
   "metadata": {},
   "outputs": [],
   "source": [
    "route = '106274567'"
   ]
  },
  {
   "cell_type": "code",
   "execution_count": null,
   "metadata": {},
   "outputs": [],
   "source": [
    "def parse_classics(route):\n",
    "\n",
    "    #build URL\n",
    "    url = 'https://www.mountainproject.com/'\n",
    "\n",
    "    #route dividers\n",
    "    r = requests.get(url)\n",
    "    bs_obj = BeautifulSoup(r.content, 'html.parser')\n",
    "    box = bs_obj.find('div',{'class':\"col-xs-12\"})\n",
    "    containers = box.findAll('tr',{'class':\"route-row\"})\n",
    "\n",
    "    #within container grab userID, and number of stars\n",
    "    userstars = []\n",
    "    \n",
    "    for container in containers:\n",
    "        href = container.a.get('href')\n",
    "        userid = href.split('/')[4]\n",
    "        star_count = len(container.find_all('img',{'src':\"https://cdn.apstatic.com/img/stars/starBlue.svg\"}))\n",
    "        userstars.append((userid,star_count))\n",
    "\n",
    "    return userstars\n"
   ]
  },
  {
   "cell_type": "code",
   "execution_count": null,
   "metadata": {},
   "outputs": [],
   "source": [
    "url = 'https://www.mountainproject.com/area/classics'\n",
    "\n",
    "#route dividers\n",
    "r = requests.get(url)\n",
    "bs_obj = BeautifulSoup(r.content, 'html.parser')\n",
    "box = bs_obj.find('table',{'class':\"table route-table hidden-xs-down\"})\n",
    "containers = box.findAll('a')"
   ]
  },
  {
   "cell_type": "code",
   "execution_count": null,
   "metadata": {},
   "outputs": [],
   "source": [
    "routeids = []\n",
    "for container in containers:\n",
    "    try:\n",
    "        routeid = container.get('href').split('/')[4]\n",
    "        routeids.append(routeid)\n",
    "    except:\n",
    "        print('wierdness')\n",
    "    "
   ]
  },
  {
   "cell_type": "code",
   "execution_count": null,
   "metadata": {},
   "outputs": [],
   "source": [
    "routeids"
   ]
  },
  {
   "cell_type": "code",
   "execution_count": null,
   "metadata": {},
   "outputs": [],
   "source": [
    "userids_long = []\n",
    "for routeid in routeids:\n",
    "    time.sleep(2)\n",
    "    try:\n",
    "        userids,stars = mh.parse_stars(routeid)\n",
    "        userids_long.append(userids)\n",
    "    except:\n",
    "        print('cant parse route {}'.format(routeid))\n",
    "    print(len(userids_long))\n",
    "    "
   ]
  },
  {
   "cell_type": "code",
   "execution_count": null,
   "metadata": {},
   "outputs": [],
   "source": [
    "mh.parse_stars('105722593')"
   ]
  },
  {
   "cell_type": "code",
   "execution_count": null,
   "metadata": {},
   "outputs": [],
   "source": []
  },
  {
   "cell_type": "code",
   "execution_count": null,
   "metadata": {},
   "outputs": [],
   "source": []
  },
  {
   "cell_type": "code",
   "execution_count": null,
   "metadata": {},
   "outputs": [],
   "source": []
  }
 ],
 "metadata": {
  "kernelspec": {
   "display_name": "Python 3",
   "language": "python",
   "name": "python3"
  },
  "language_info": {
   "codemirror_mode": {
    "name": "ipython",
    "version": 3
   },
   "file_extension": ".py",
   "mimetype": "text/x-python",
   "name": "python",
   "nbconvert_exporter": "python",
   "pygments_lexer": "ipython3",
   "version": "3.6.1"
  }
 },
 "nbformat": 4,
 "nbformat_minor": 2
}
