{
 "cells": [
  {
   "cell_type": "code",
   "execution_count": 1,
   "metadata": {},
   "outputs": [],
   "source": [
    "import requests\n",
    "import urllib\n",
    "from bs4 import BeautifulSoup\n",
    "import os\n",
    "import time\n",
    "import random\n",
    "import json\n",
    "import random\n",
    "import MtProjScrapeHelpers as mh\n",
    "import pandas as pd\n",
    "%load_ext autoreload\n",
    "%autoreload 2"
   ]
  },
  {
   "cell_type": "code",
   "execution_count": null,
   "metadata": {},
   "outputs": [],
   "source": [
    "def parse_some_routes():\n",
    "    userids_long = []\n",
    "    for routeid in routeids:\n",
    "        time.sleep(2)\n",
    "        try:\n",
    "            userids,stars = mh.parse_stars(routeid)\n",
    "            userids_long.append(userids)\n",
    "        except:\n",
    "            print('cant parse route {}'.format(routeid))\n",
    "        print(len(userids_long))\n",
    "\n",
    "\n",
    "\n",
    "def main():\n",
    "    with open ('CO_users.txt', 'rb') as fp:\n",
    "        ids = pickle.load(fp)\n",
    "    dump_dir = '/Users/colinbrochard/DSI_Capstone/MtProj/data_collection/user_ticks_CO1/'\n",
    "    os.mkdir(dump_dir)\n",
    "    for id in ids:\n",
    "        trailer = '.txt'\n",
    "        with open(dump_dir+id+trailer, 'w') as outfile:\n",
    "            time.sleep(random.random()*2)\n",
    "            data = get_user_ticks(id)\n",
    "            json.dump(data, outfile)"
   ]
  },
  {
   "cell_type": "code",
   "execution_count": 25,
   "metadata": {},
   "outputs": [],
   "source": [
    "s = 'avc'"
   ]
  },
  {
   "cell_type": "code",
   "execution_count": 27,
   "metadata": {},
   "outputs": [
    {
     "data": {
      "text/plain": [
       "{'avc'}"
      ]
     },
     "execution_count": 27,
     "metadata": {},
     "output_type": "execute_result"
    }
   ],
   "source": [
    "set([s])"
   ]
  },
  {
   "cell_type": "code",
   "execution_count": 28,
   "metadata": {},
   "outputs": [],
   "source": [
    "a = {1,2,3}\n",
    "b = {3,4,5}"
   ]
  },
  {
   "cell_type": "code",
   "execution_count": 29,
   "metadata": {},
   "outputs": [
    {
     "data": {
      "text/plain": [
       "{1, 2}"
      ]
     },
     "execution_count": 29,
     "metadata": {},
     "output_type": "execute_result"
    }
   ],
   "source": [
    "a.difference(b)"
   ]
  },
  {
   "cell_type": "code",
   "execution_count": null,
   "metadata": {},
   "outputs": [],
   "source": []
  }
 ],
 "metadata": {
  "kernelspec": {
   "display_name": "Python 3",
   "language": "python",
   "name": "python3"
  },
  "language_info": {
   "codemirror_mode": {
    "name": "ipython",
    "version": 3
   },
   "file_extension": ".py",
   "mimetype": "text/x-python",
   "name": "python",
   "nbconvert_exporter": "python",
   "pygments_lexer": "ipython3",
   "version": "3.6.1"
  }
 },
 "nbformat": 4,
 "nbformat_minor": 2
}
