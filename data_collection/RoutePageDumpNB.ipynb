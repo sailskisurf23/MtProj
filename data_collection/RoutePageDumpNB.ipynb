{
 "cells": [
  {
   "cell_type": "code",
   "execution_count": 1,
   "metadata": {},
   "outputs": [],
   "source": [
    "import requests\n",
    "from bs4 import BeautifulSoup\n",
    "import random\n",
    "import json\n",
    "import time"
   ]
  },
  {
   "cell_type": "code",
   "execution_count": 2,
   "metadata": {},
   "outputs": [],
   "source": [
    "import pymongo\n",
    "from pymongo import MongoClient\n",
    "client = MongoClient() # adjust this line when wrting to s3 bucket to include s3 url/port info?\n",
    "db = client.routes_db"
   ]
  },
  {
   "cell_type": "markdown",
   "metadata": {},
   "source": [
    "#### Grab webpage"
   ]
  },
  {
   "cell_type": "code",
   "execution_count": 3,
   "metadata": {},
   "outputs": [],
   "source": [
    "loc_r = '/Users/colinbrochard/DSI_Capstone_local/MtProjRec/data1/routes4.csv'"
   ]
  },
  {
   "cell_type": "code",
   "execution_count": 4,
   "metadata": {},
   "outputs": [],
   "source": [
    "with open(loc_r) as f:\n",
    "    routes1 = [line.strip() for line in f]"
   ]
  },
  {
   "cell_type": "code",
   "execution_count": 6,
   "metadata": {},
   "outputs": [],
   "source": [
    "routes = routes1[:10]"
   ]
  },
  {
   "cell_type": "code",
   "execution_count": 7,
   "metadata": {},
   "outputs": [
    {
     "name": "stdout",
     "output_type": "stream",
     "text": [
      "retrieving route: 108003328\n",
      "writing to db, route: 108003328\n",
      "retrieving route: 106011580\n",
      "writing to db, route: 106011580\n",
      "retrieving route: 109576195\n",
      "writing to db, route: 109576195\n",
      "retrieving route: 106430469\n",
      "writing to db, route: 106430469\n",
      "retrieving route: 108003334\n",
      "writing to db, route: 108003334\n",
      "retrieving route: 105870749\n",
      "writing to db, route: 105870749\n",
      "retrieving route: 107791434\n",
      "writing to db, route: 107791434\n",
      "retrieving route: 105906185\n",
      "writing to db, route: 105906185\n",
      "retrieving route: 105964117\n",
      "writing to db, route: 105964117\n",
      "retrieving route: 106259577\n",
      "writing to db, route: 106259577\n"
     ]
    }
   ],
   "source": [
    "#build urls\n",
    "base_url = 'https://www.mountainproject.com/'\n",
    "query_str = 'route/'\n",
    "for routeid in routes:\n",
    "    time.sleep(2+random.random())\n",
    "    print('retrieving route: {}'.format(routeid))\n",
    "    url1 = base_url+'route/'+routeid\n",
    "    url2 = base_url+'route/stats/'+routeid\n",
    "    r1 = requests.get(url1)\n",
    "    time.sleep(2+random.random())\n",
    "    r2 = requests.get(url2)\n",
    "    d = {\n",
    "        'routeid' : routeid,\n",
    "        'page' : r1.content,\n",
    "        'stats' : r2.content\n",
    "        }\n",
    "    print('writing to db, route: {}'.format(routeid))\n",
    "    db.routes_db.insert_one(d)   "
   ]
  },
  {
   "cell_type": "code",
   "execution_count": 8,
   "metadata": {},
   "outputs": [],
   "source": [
    "route1 = db.routes_db.find_one({\"routeid\": \"106259577\"})"
   ]
  },
  {
   "cell_type": "code",
   "execution_count": 9,
   "metadata": {},
   "outputs": [],
   "source": [
    "stats1 = route1['stats']"
   ]
  },
  {
   "cell_type": "code",
   "execution_count": 10,
   "metadata": {},
   "outputs": [],
   "source": []
  },
  {
   "cell_type": "code",
   "execution_count": 11,
   "metadata": {},
   "outputs": [
    {
     "data": {
      "text/plain": [
       "(['106137716',\n",
       "  '107888941',\n",
       "  '106489544',\n",
       "  '106303677',\n",
       "  '12258',\n",
       "  '110039557',\n",
       "  '109293842',\n",
       "  '106519623',\n",
       "  '111442565',\n",
       "  '107152512',\n",
       "  '106714648',\n",
       "  '107495937',\n",
       "  '106411948',\n",
       "  '105802830',\n",
       "  '106389004',\n",
       "  '106366744',\n",
       "  '11387',\n",
       "  '15043',\n",
       "  '107016185',\n",
       "  '105960152',\n",
       "  '107248365',\n",
       "  '106224334',\n",
       "  '106684182',\n",
       "  '107205695',\n",
       "  '108723479',\n",
       "  '109363594'],\n",
       " [4,\n",
       "  4,\n",
       "  4,\n",
       "  4,\n",
       "  4,\n",
       "  4,\n",
       "  4,\n",
       "  4,\n",
       "  4,\n",
       "  4,\n",
       "  4,\n",
       "  4,\n",
       "  4,\n",
       "  4,\n",
       "  4,\n",
       "  4,\n",
       "  4,\n",
       "  4,\n",
       "  3,\n",
       "  3,\n",
       "  3,\n",
       "  3,\n",
       "  3,\n",
       "  3,\n",
       "  3,\n",
       "  1])"
      ]
     },
     "execution_count": 11,
     "metadata": {},
     "output_type": "execute_result"
    }
   ],
   "source": [
    "parse_stats(stats1)"
   ]
  },
  {
   "cell_type": "code",
   "execution_count": null,
   "metadata": {},
   "outputs": [],
   "source": []
  },
  {
   "cell_type": "code",
   "execution_count": null,
   "metadata": {},
   "outputs": [],
   "source": []
  }
 ],
 "metadata": {
  "kernelspec": {
   "display_name": "Python 3",
   "language": "python",
   "name": "python3"
  },
  "language_info": {
   "codemirror_mode": {
    "name": "ipython",
    "version": 3
   },
   "file_extension": ".py",
   "mimetype": "text/x-python",
   "name": "python",
   "nbconvert_exporter": "python",
   "pygments_lexer": "ipython3",
   "version": "3.6.1"
  }
 },
 "nbformat": 4,
 "nbformat_minor": 2
}
