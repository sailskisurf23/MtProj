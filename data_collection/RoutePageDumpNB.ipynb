{
 "cells": [
  {
   "cell_type": "code",
   "execution_count": null,
   "metadata": {},
   "outputs": [],
   "source": [
    "import requests\n",
    "from bs4 import BeautifulSoup\n",
    "import random\n",
    "import json\n",
    "import time"
   ]
  },
  {
   "cell_type": "code",
   "execution_count": null,
   "metadata": {},
   "outputs": [],
   "source": [
    "import pymongo\n",
    "from pymongo import MongoClient\n",
    "client = MongoClient() # adjust this line when wrting to s3 bucket to include s3 url/port info?\n",
    "db = client.routes_db"
   ]
  },
  {
   "cell_type": "markdown",
   "metadata": {},
   "source": [
    "#### Grab webpage"
   ]
  },
  {
   "cell_type": "code",
   "execution_count": 1,
   "metadata": {},
   "outputs": [],
   "source": [
    "loc_r = '/Users/colinbrochard/DSI_Capstone_local/MtProjRec/data1/routes4.csv'"
   ]
  },
  {
   "cell_type": "code",
   "execution_count": 2,
   "metadata": {},
   "outputs": [],
   "source": [
    "with open(loc_r) as f:\n",
    "    routes = [line.strip() for line in f]"
   ]
  },
  {
   "cell_type": "code",
   "execution_count": null,
   "metadata": {},
   "outputs": [],
   "source": [
    "#build urls\n",
    "base_url = 'https://www.mountainproject.com/'\n",
    "query_str = 'route/'\n",
    "for routeid in routes:\n",
    "    try:\n",
    "        time.sleep(2+random.random())\n",
    "        print('retrieving route: {}'.format(routeid))\n",
    "        url1 = base_url+'route/'+routeid\n",
    "        url2 = base_url+'route/stats/'+routeid\n",
    "        r1 = requests.get(url1)\n",
    "        time.sleep(2+random.random())\n",
    "        r2 = requests.get(url2)\n",
    "        d = {\n",
    "            'routeid' : routeid,\n",
    "            'page' : r1.content,\n",
    "            'stats' : r2.content\n",
    "            }\n",
    "        print('writing to db, route: {}'.format(routeid))\n",
    "        db.routes_db.insert_one(d)\n",
    "    except:\n",
    "        print('error while retreving route: {}'.format(routeid))\n",
    "        time.sleep(10)"
   ]
  },
  {
   "cell_type": "code",
   "execution_count": null,
   "metadata": {},
   "outputs": [],
   "source": []
  },
  {
   "cell_type": "code",
   "execution_count": null,
   "metadata": {},
   "outputs": [],
   "source": []
  }
 ],
 "metadata": {
  "kernelspec": {
   "display_name": "Python 3",
   "language": "python",
   "name": "python3"
  },
  "language_info": {
   "codemirror_mode": {
    "name": "ipython",
    "version": 3
   },
   "file_extension": ".py",
   "mimetype": "text/x-python",
   "name": "python",
   "nbconvert_exporter": "python",
   "pygments_lexer": "ipython3",
   "version": "3.6.1"
  }
 },
 "nbformat": 4,
 "nbformat_minor": 2
}
