{
 "cells": [
  {
   "cell_type": "code",
   "execution_count": 97,
   "metadata": {},
   "outputs": [
    {
     "name": "stdout",
     "output_type": "stream",
     "text": [
      "The autoreload extension is already loaded. To reload it, use:\n",
      "  %reload_ext autoreload\n"
     ]
    }
   ],
   "source": [
    "import requests\n",
    "import urllib\n",
    "from bs4 import BeautifulSoup\n",
    "import os\n",
    "import time\n",
    "import json\n",
    "import scrape_funcs_mtp\n",
    "import random\n",
    "import pandas as pd\n",
    "%load_ext autoreload\n",
    "%autoreload 2"
   ]
  },
  {
   "cell_type": "markdown",
   "metadata": {},
   "source": [
    "#### scrape userIDS"
   ]
  },
  {
   "cell_type": "code",
   "execution_count": 66,
   "metadata": {},
   "outputs": [],
   "source": [
    "search_url = 'https://www.mountainproject.com/partner-finder/results?location=94121&distance=50'"
   ]
  },
  {
   "cell_type": "code",
   "execution_count": 67,
   "metadata": {},
   "outputs": [],
   "source": [
    "bay_IDs = scrape_funcs_mtp.scrape_partner_userids(search_url)"
   ]
  },
  {
   "cell_type": "code",
   "execution_count": null,
   "metadata": {},
   "outputs": [],
   "source": []
  },
  {
   "cell_type": "code",
   "execution_count": null,
   "metadata": {},
   "outputs": [],
   "source": []
  },
  {
   "cell_type": "markdown",
   "metadata": {},
   "source": [
    "#### get ticks for each user"
   ]
  },
  {
   "cell_type": "code",
   "execution_count": 95,
   "metadata": {},
   "outputs": [],
   "source": [
    "#test get userticks\n",
    "user_ticks = []\n",
    "for i in bay_IDs[5:6]:\n",
    "    #time.sleep(random.random()*2)\n",
    "    data = scrape_funcs_mtp.get_user_ticks(i)\n",
    "    with open('ticks_data_94564.txt', 'w') as outfile:\n",
    "        json.dump(data, outfile)"
   ]
  },
  {
   "cell_type": "code",
   "execution_count": 96,
   "metadata": {
    "collapsed": true
   },
   "outputs": [
    {
     "data": {
      "text/plain": [
       "{'average': '5.10a',\n",
       " 'hardest': '5.11b',\n",
       " 'success': 1,\n",
       " 'ticks': [{'date': '2018-03-31',\n",
       "   'leadStyle': '',\n",
       "   'notes': '',\n",
       "   'pitches': 1,\n",
       "   'routeId': 110586079,\n",
       "   'style': 'Follow'},\n",
       "  {'date': '2018-03-31',\n",
       "   'leadStyle': 'Onsight',\n",
       "   'notes': '',\n",
       "   'pitches': 1,\n",
       "   'routeId': 105734798,\n",
       "   'style': 'Lead'},\n",
       "  {'date': '2018-03-31',\n",
       "   'leadStyle': '',\n",
       "   'notes': '',\n",
       "   'pitches': 1,\n",
       "   'routeId': 105736022,\n",
       "   'style': 'TR'},\n",
       "  {'date': '2018-03-31',\n",
       "   'leadStyle': '',\n",
       "   'notes': '',\n",
       "   'pitches': 1,\n",
       "   'routeId': 105735371,\n",
       "   'style': 'TR'},\n",
       "  {'date': '2018-03-31',\n",
       "   'leadStyle': '',\n",
       "   'notes': '',\n",
       "   'pitches': 1,\n",
       "   'routeId': 105736019,\n",
       "   'style': 'Follow'},\n",
       "  {'date': '2018-03-31',\n",
       "   'leadStyle': 'Onsight',\n",
       "   'notes': '',\n",
       "   'pitches': 1,\n",
       "   'routeId': 105736016,\n",
       "   'style': 'Lead'},\n",
       "  {'date': '2018-03-31',\n",
       "   'leadStyle': 'Onsight',\n",
       "   'notes': '',\n",
       "   'pitches': 1,\n",
       "   'routeId': 105735341,\n",
       "   'style': 'Lead'},\n",
       "  {'date': '2018-02-05',\n",
       "   'leadStyle': '',\n",
       "   'notes': '',\n",
       "   'pitches': 1,\n",
       "   'routeId': 106686078,\n",
       "   'style': 'Follow'},\n",
       "  {'date': '2018-02-05',\n",
       "   'leadStyle': '',\n",
       "   'notes': '',\n",
       "   'pitches': 1,\n",
       "   'routeId': 106686090,\n",
       "   'style': 'Follow'},\n",
       "  {'date': '2018-02-05',\n",
       "   'leadStyle': 'Redpoint',\n",
       "   'notes': '',\n",
       "   'pitches': 1,\n",
       "   'routeId': 105736052,\n",
       "   'style': 'Lead'},\n",
       "  {'date': '2018-02-03',\n",
       "   'leadStyle': '',\n",
       "   'notes': '',\n",
       "   'pitches': 1,\n",
       "   'routeId': 106985698,\n",
       "   'style': 'Follow'},\n",
       "  {'date': '2018-02-03',\n",
       "   'leadStyle': '',\n",
       "   'notes': '',\n",
       "   'pitches': 1,\n",
       "   'routeId': 106985679,\n",
       "   'style': 'Follow'},\n",
       "  {'date': '2018-02-03',\n",
       "   'leadStyle': '',\n",
       "   'notes': '',\n",
       "   'pitches': 1,\n",
       "   'routeId': 105735461,\n",
       "   'style': 'Follow'},\n",
       "  {'date': '2018-02-03',\n",
       "   'leadStyle': '',\n",
       "   'notes': '',\n",
       "   'pitches': 1,\n",
       "   'routeId': 110529719,\n",
       "   'style': 'Follow'},\n",
       "  {'date': '2018-02-03',\n",
       "   'leadStyle': 'Onsight',\n",
       "   'notes': '',\n",
       "   'pitches': 4,\n",
       "   'routeId': 107045657,\n",
       "   'style': 'Lead'},\n",
       "  {'date': '2018-01-27',\n",
       "   'leadStyle': '',\n",
       "   'notes': '',\n",
       "   'pitches': 1,\n",
       "   'routeId': 106018177,\n",
       "   'style': 'TR'},\n",
       "  {'date': '2018-01-27',\n",
       "   'leadStyle': 'Onsight',\n",
       "   'notes': '',\n",
       "   'pitches': 1,\n",
       "   'routeId': 107501690,\n",
       "   'style': 'Lead'},\n",
       "  {'date': '2018-01-26',\n",
       "   'leadStyle': '',\n",
       "   'notes': '',\n",
       "   'pitches': 1,\n",
       "   'routeId': 105734687,\n",
       "   'style': 'TR'}]}"
      ]
     },
     "execution_count": 96,
     "metadata": {},
     "output_type": "execute_result"
    }
   ],
   "source": [
    "scrape_funcs_mtp.get_user_ticks(bay_IDs[3])"
   ]
  },
  {
   "cell_type": "markdown",
   "metadata": {},
   "source": [
    "##### get zip list for CO"
   ]
  },
  {
   "cell_type": "code",
   "execution_count": null,
   "metadata": {},
   "outputs": [],
   "source": []
  },
  {
   "cell_type": "code",
   "execution_count": null,
   "metadata": {},
   "outputs": [],
   "source": []
  }
 ],
 "metadata": {
  "kernelspec": {
   "display_name": "Python 3",
   "language": "python",
   "name": "python3"
  },
  "language_info": {
   "codemirror_mode": {
    "name": "ipython",
    "version": 3
   },
   "file_extension": ".py",
   "mimetype": "text/x-python",
   "name": "python",
   "nbconvert_exporter": "python",
   "pygments_lexer": "ipython3",
   "version": "3.6.1"
  }
 },
 "nbformat": 4,
 "nbformat_minor": 2
}
